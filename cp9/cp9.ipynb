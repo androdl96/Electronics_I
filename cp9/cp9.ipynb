{
 "cells": [
  {
   "cell_type": "code",
   "execution_count": 1,
   "metadata": {},
   "outputs": [],
   "source": [
    "import numpy as np"
   ]
  },
  {
   "cell_type": "markdown",
   "metadata": {},
   "source": [
    "### Clase Práctica 9\n",
    "\n",
    "#### Temas\n",
    "* Principio de funcionamiento del BJT\n",
    "* Modos de operación\n",
    "* Polarización de BJT\n",
    "\n",
    "#### Electrónica: Teoría de Circuitos y Dispositivos Electrónicos. Robert L. Boylestad y Louis Nashelsky, 10ma ed. Capítulos 3 y 4."
   ]
  },
  {
   "cell_type": "markdown",
   "metadata": {},
   "source": [
    "<img src=\"t1.png\" alt= “” width=\"60%\" height=\"60%\">\n",
    "\n",
    "<img src=\"t2.png\" alt= “” width=\"60%\" height=\"60%\">\n",
    "\n",
    "![image info](./t3.png)\n",
    "\n",
    "$i_C=\\beta i_B$\n",
    "\n",
    "$i_C=\\alpha i_E$\n",
    "\n",
    "$\\alpha=\\dfrac{\\beta}{\\beta+1}$\n",
    "\n",
    "$\\beta=\\dfrac{\\alpha}{1-\\alpha}$"
   ]
  },
  {
   "cell_type": "markdown",
   "metadata": {},
   "source": [
    "#### 1 - ¿Cuál es la tensión entre el emisor y la tierra en la figura? ¿Y entre el colector y el emisor?\n",
    "\n",
    "![image info](./c1.png)"
   ]
  },
  {
   "cell_type": "markdown",
   "metadata": {},
   "source": [
    "$V_{BE}=0.7 \\mathrm{V}$\n",
    "\n",
    "$V_E=5\\mathrm{V}- V_{BE}=4.3\\mathrm{V}$\n",
    "\n",
    "$V_{CE}=15\\mathrm{V}-I_C(R_C+R_E)$\n",
    "\n",
    "$I_C\\approx I_E=\\dfrac{V_E}{R_E}$"
   ]
  },
  {
   "cell_type": "code",
   "execution_count": 2,
   "metadata": {},
   "outputs": [
    {
     "name": "stdout",
     "output_type": "stream",
     "text": [
      "Ic  = 4.3 mA\n",
      "Ve  = 4.3 V\n",
      "Vce = 2.1 V\n"
     ]
    }
   ],
   "source": [
    "Re=1e3\n",
    "Rc=2e3\n",
    "Vbe=0.7\n",
    "Ve=5-Vbe\n",
    "Ic=Ve/Re\n",
    "Vce=15-Ve*(Re+Rc)/Re\n",
    "\n",
    "print('Ic  =',Ic*1000,'mA')\n",
    "print('Ve  =',Ve,'V')\n",
    "print('Vce =',np.round(Vce,5),'V')"
   ]
  },
  {
   "cell_type": "markdown",
   "metadata": {},
   "source": [
    "#### 2 - Para la red de polarización de emisor de la figura, determine:\n",
    "\n",
    "![image info](./c2.png)\n",
    "\n",
    "a)$I_B \\:$ b)$I_C \\:$ \n",
    "\n",
    "c)$V_{CE}\\:$ d)$V_{C}\\:$ e)$V_{E}\\:$ f)$V_{B}\\:$ g)$V_{BC}\\:$"
   ]
  },
  {
   "cell_type": "markdown",
   "metadata": {},
   "source": [
    "#### Respuesta:\n",
    "\n",
    "a) $V_{cc}=I_BR_B+V_{BE}+R_E(\\beta+1)I_B$\n",
    "\n",
    "$I_B=\\dfrac{V_{cc}-V_{BE}}{R_B+R_E(\\beta+1)}$\n",
    "\n",
    "b)$I_C=\\beta I_B$\n",
    "\n",
    "$I_E=(\\beta+1) I_B$\n",
    "\n",
    "c)$V_{CE}=V_{cc}-I_C(R_C+R_E)$ // $V_{CE}=V_{cc}-I_CR_C+I_ER_E$\n",
    "\n",
    "d)$V_C=V_{CE}+I_CR_E$ // $V_C=V_{CE}+I_ER_E$\n",
    "\n",
    "e)$V_E=V_C-V_{CE}$\n",
    "\n",
    "f)$V_B=I_CR_E+V_{BE}$ // $V_B=I_ER_E+V_{BE}$\n",
    "\n",
    "g)$V_{BC}=V_{B}-V_{C}$"
   ]
  },
  {
   "cell_type": "code",
   "execution_count": 9,
   "metadata": {},
   "outputs": [
    {
     "name": "stdout",
     "output_type": "stream",
     "text": [
      "a)Ib  40.12 uA\n",
      "b)Ic  2.01 mA\n",
      "c)Vce 13.98 V\n",
      "d)Vc  15.99 V\n",
      "e)Ve  2.01 V\n",
      "f)Vb  2.71 V\n",
      "g)Vbc -13.28 V\n"
     ]
    }
   ],
   "source": [
    "Vcc=20\n",
    "Vbe=0.7\n",
    "Re=1e3\n",
    "Rb=430e3\n",
    "Rc=2e3\n",
    "Beta=50\n",
    "\n",
    "Ib=(Vcc-Vbe)/(Rb+Re*(Beta+1))\n",
    "Ic=Beta*Ib\n",
    "Ie=(Beta+1)*Ib\n",
    "print('a)Ib ',np.round(Ib*1e6,2),'uA')\n",
    "print('b)Ic ',np.round(Ic*1e3,2),'mA')\n",
    "\n",
    "Vce=Vcc-Ic*(Rc+Re) #Vce=Vcc-Ic*Rc-Ie*Re\n",
    "Vc=Vce+Ic*Re #Vc=Vce+Ie*Re\n",
    "Ve=Vc-Vce\n",
    "Vb=Ic*Re+Vbe #Vb=Ie*Re+Vbe\n",
    "Vbc=Vb-Vc\n",
    "\n",
    "print('c)Vce',np.round(Vce,2),'V')\n",
    "print('d)Vc ',np.round(Vc,2),'V')\n",
    "print('e)Ve ',np.round(Ve,2),'V')\n",
    "print('f)Vb ',np.round(Vb,2),'V')\n",
    "print('g)Vbc',np.round(Vbc,2),'V')"
   ]
  },
  {
   "cell_type": "markdown",
   "metadata": {},
   "source": [
    "#### 3 - Determine el voltaje de polarización $V_{CE}$ y la corriente $I_{C}$ para la configuración de polarización del divisor de voltaje de la figura:\n",
    "\n",
    "![image info](./c4.png)"
   ]
  },
  {
   "cell_type": "code",
   "execution_count": 63,
   "metadata": {},
   "outputs": [
    {
     "name": "stdout",
     "output_type": "stream",
     "text": [
      "Vth 2.0 V\n",
      "Rth 3.55 kOhm\n",
      "Ib  8.38 uA\n",
      "Ic  0.84 mA\n",
      "Vce 12.36 V\n"
     ]
    }
   ],
   "source": [
    "Vcc=22\n",
    "Rb1=3.9e3\n",
    "Rb2=39e3\n",
    "Rc=10e3\n",
    "Re=1.5e3\n",
    "Vbe=0.7\n",
    "Beta=100\n",
    "\n",
    "Vth=Vcc*Rb1/(Rb2+Rb1)\n",
    "Rth=(Rb2*Rb1)/(Rb2+Rb1)\n",
    "\n",
    "print('Vth',Vth,'V')\n",
    "print('Rth',np.round(Rth*1e-3,2),'kOhm')\n",
    "\n",
    "Ib=(Vth-Vbe)/(Rth+Re*(1+Beta))\n",
    "Ic=Ib*Beta\n",
    "\n",
    "print('Ib ',np.round(Ib*1e6,2),'uA')\n",
    "print('Ic ',np.round(Ic*1e3,2),'mA')\n",
    "\n",
    "Vce=Vcc-(Rc+Re)*Ic\n",
    "\n",
    "print('Vce',np.round(Vce,2),'V')"
   ]
  },
  {
   "cell_type": "markdown",
   "metadata": {},
   "source": [
    "#### 4 - Determine $V_{CE_{Q}}$ y $I_{E_{Q}}$ para la red de la figura:\n",
    "\n",
    "![image info](./c3.png)"
   ]
  },
  {
   "cell_type": "markdown",
   "metadata": {},
   "source": [
    "$V_{EE}=-I_B(\\beta+1)R_E - I_BR_B -V_{BE}$\n",
    "\n",
    "$I_B=\\dfrac{-V_{EE}-V_{BE}}{R_B+R_E(\\beta+1)}$\n",
    "\n",
    "$I_{E_{Q}}=I_B(\\beta+1)$\n",
    "\n",
    "$V_{CE_{Q}}=-I_ER_E-V_{EE}$"
   ]
  },
  {
   "cell_type": "code",
   "execution_count": 42,
   "metadata": {},
   "outputs": [
    {
     "name": "stdout",
     "output_type": "stream",
     "text": [
      "Ib  45.73 uA\n",
      "Ie 4.16 mA\n",
      "Vce 11.68 V\n"
     ]
    }
   ],
   "source": [
    "Vee=-20\n",
    "Vbe=0.7\n",
    "Rb=240e3\n",
    "Re=2e3\n",
    "Beta=90\n",
    "\n",
    "Ib=(-Vee-Vbe)/(Rb+Re*(Beta+1))\n",
    "Ie=(Beta+1)*Ib\n",
    "Vce=-1*(Ie*Re+Vee)\n",
    "\n",
    "print('Ib ',np.round(Ib*1e6,2),'uA')\n",
    "print('Ie',np.round(Ie*1e3,2),'mA')\n",
    "print('Vce',np.round(Vce,2),'V')"
   ]
  },
  {
   "cell_type": "markdown",
   "metadata": {},
   "source": [
    "#### 5 - Calcule la corriente constante $I$ en el circuito de la figura:\n",
    "\n",
    "![image info](./c5.png)"
   ]
  },
  {
   "cell_type": "markdown",
   "metadata": {},
   "source": [
    "$V_Z=V_{BE}+IR_E$\n",
    "\n",
    "$I=\\dfrac{V_Z-V_{BE}}{R_E}$"
   ]
  },
  {
   "cell_type": "code",
   "execution_count": 44,
   "metadata": {},
   "outputs": [
    {
     "name": "stdout",
     "output_type": "stream",
     "text": [
      "I 3.06 mA\n"
     ]
    }
   ],
   "source": [
    "Vz=6.2\n",
    "Re=1.8e3\n",
    "Vbe=0.7\n",
    "\n",
    "I=(Vz-Vbe)/Re\n",
    "\n",
    "print('I',np.round(I*1e3,2),'mA')"
   ]
  },
  {
   "cell_type": "markdown",
   "metadata": {},
   "source": [
    "#### 6 - Determine $R_B$ y $R_C$ para el inversor de transistor de la figura si $I_{C_{sat}} = 10 \\mathrm{mA}$.\n",
    "\n",
    "![image info](./c6.png)"
   ]
  },
  {
   "cell_type": "markdown",
   "metadata": {},
   "source": [
    "$R_C=\\dfrac{V_{CC}}{I_{C_{sat}}}$\n",
    "\n",
    "$I_B=\\dfrac{I_{C_{sat}}}{h_{FE}}$\n",
    "\n",
    "$V_i=I_BR_B+V_{BE}$\n",
    "\n",
    "$R_B=\\dfrac{V_i-V_{BE}}{I_B}$"
   ]
  },
  {
   "cell_type": "code",
   "execution_count": 51,
   "metadata": {},
   "outputs": [
    {
     "name": "stdout",
     "output_type": "stream",
     "text": [
      "Ib 40.0 uA\n",
      "Rc 1.0 kOhm\n",
      "Rb 155.0 kOhm\n"
     ]
    }
   ],
   "source": [
    "Vcc=10\n",
    "Vi=10\n",
    "hFE=250\n",
    "Ic=10e-3\n",
    "Vbe=0.7\n",
    "\n",
    "Rc=Vcc/Ic\n",
    "Ib=Ic/hFE\n",
    "Ib2=Ib+0.5*Ib\n",
    "Rb=(Vi-Vbe)/Ib2\n",
    "\n",
    "print('Ib',np.round(Ib*1e6,2),'uA')\n",
    "print('Rc',np.round(Rc*1e-3,2),'kOhm')\n",
    "print('Rb',np.round(Rb*1e-3,2),'kOhm')"
   ]
  },
  {
   "cell_type": "markdown",
   "metadata": {},
   "source": [
    "#### 7- Para el amplificador de la figura determine:\n",
    "\t\n",
    "#### a) Corrientes de base y colector de cada transistor.\n",
    "\t\n",
    "#### b) Voltajes en la base, emisor y colector de cada transistor.\n",
    "\n",
    "<img src=\"c7.png\" alt= “” width=\"40%\" height=\"40%\">"
   ]
  },
  {
   "cell_type": "markdown",
   "metadata": {},
   "source": [
    "<img src=\"s7.png\" alt= “” width=\"60%\" height=\"60%\">"
   ]
  },
  {
   "cell_type": "code",
   "execution_count": null,
   "metadata": {},
   "outputs": [],
   "source": []
  }
 ],
 "metadata": {
  "kernelspec": {
   "display_name": "Python 3",
   "language": "python",
   "name": "python3"
  },
  "language_info": {
   "codemirror_mode": {
    "name": "ipython",
    "version": 3
   },
   "file_extension": ".py",
   "mimetype": "text/x-python",
   "name": "python",
   "nbconvert_exporter": "python",
   "pygments_lexer": "ipython3",
   "version": "3.8.10"
  }
 },
 "nbformat": 4,
 "nbformat_minor": 4
}
