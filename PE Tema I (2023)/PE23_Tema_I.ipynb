{
 "cells": [
  {
   "cell_type": "code",
   "execution_count": 68,
   "metadata": {},
   "outputs": [],
   "source": [
    "import cmath\n",
    "import numpy as np\n",
    "import math\n",
    "import matplotlib.pyplot as plt\n",
    "from scipy import signal\n",
    "\n",
    "def calc_parallel(R1,R2):\n",
    "    return R1*R2/(R1+R2)\n",
    "\n",
    "def V_div(Vs,R1,R2):\n",
    "    return Vs*R1/(R1+R2)\n",
    "\n",
    "def I_div(Is,R1,R2):\n",
    "    return Is*R2/(R1+R2)\n",
    "\n",
    "def calc_exp(A,ab,t):\n",
    "    return A*np.exp(-1*ab*t)"
   ]
  },
  {
   "cell_type": "markdown",
   "metadata": {},
   "source": [
    "___\n",
    "#### Determine las corrientes de malla del siguiente circuito:\n",
    "\n",
    "<img src=\"ej1.png\" alt= “” width=\"50%\" height=\"50%\">"
   ]
  },
  {
   "cell_type": "markdown",
   "metadata": {},
   "source": [
    "#### Aplicando análisis de mallas:\n",
    "\n",
    "$5 + 7i_2+14(i_2-i_1)=0$\n",
    "\n",
    "$-12+14(i_1-i_2)+3i_1=0$\n",
    "\n",
    "#### Resolviendo:"
   ]
  },
  {
   "cell_type": "code",
   "execution_count": 69,
   "metadata": {},
   "outputs": [
    {
     "name": "stdout",
     "output_type": "stream",
     "text": [
      "i1 =  1.13 A\n",
      "i2 =  0.516 A\n"
     ]
    }
   ],
   "source": [
    "a=[[-14,14+7],[14+3,-14]]\n",
    "b=[-5,12]\n",
    "\n",
    "i = np.linalg.solve(a, b)\n",
    "print('i1 = ',np.round(i[0],3),'A')\n",
    "print('i2 = ',np.round(i[1],3),'A')"
   ]
  },
  {
   "cell_type": "markdown",
   "metadata": {},
   "source": [
    "___\n",
    "#### Determine las tensiones nodales del siguiente circuito:\n",
    "\n",
    "<img src=\"ej2.png\" alt= “” width=\"50%\" height=\"50%\">"
   ]
  },
  {
   "cell_type": "markdown",
   "metadata": {},
   "source": [
    "#### Aplicando análisis de nodos:\n",
    "\n",
    "$-5+\\dfrac{v_1}{1}+\\dfrac{v_1-v_2}{5}=0$\n",
    "\n",
    "$4+\\dfrac{v_2}{2}+\\dfrac{v_2-v_1}{5}=0$"
   ]
  },
  {
   "cell_type": "code",
   "execution_count": 70,
   "metadata": {},
   "outputs": [
    {
     "name": "stdout",
     "output_type": "stream",
     "text": [
      "v1 = 3.375 V\n",
      "v2 = -4.75 V\n"
     ]
    }
   ],
   "source": [
    "a=[[1+1/5,-1/5],[-1/5,1/5+1/2]]\n",
    "b=[5,-4]\n",
    "\n",
    "v = np.linalg.solve(a, b)\n",
    "print('v1 =',np.round(v[0],3),'V')\n",
    "print('v2 =',np.round(v[1],3),'V')"
   ]
  },
  {
   "cell_type": "markdown",
   "metadata": {},
   "source": [
    "___\n",
    "#### Determine las corrientes de malla del siguiente circuito:\n",
    "\n",
    "<img src=\"ej3.png\" alt= “” width=\"60%\" height=\"60%\">"
   ]
  },
  {
   "cell_type": "markdown",
   "metadata": {},
   "source": [
    "#### Aplicando análisis de mallas:\n",
    "\n",
    "$-2.5\\angle9+2I_1+j\\omega L(I_1-I_2)$\n",
    "\n",
    "$j\\omega L(I_2-I_1)+\\dfrac{I_2}{j\\omega C}+5I_1=0$"
   ]
  },
  {
   "cell_type": "code",
   "execution_count": 71,
   "metadata": {},
   "outputs": [
    {
     "name": "stdout",
     "output_type": "stream",
     "text": [
      "     mod    ang\n",
      "I1 = 0.349 11.5\n",
      "I2 = 0.402 38.065\n"
     ]
    }
   ],
   "source": [
    "w=10\n",
    "L=1\n",
    "C=330*1e-3\n",
    "vs=cmath.rect(2.5,math.radians(9))\n",
    "\n",
    "a=[[2+1j*w*L,-1j*w*L],[-1j*w*L+5,1j*w*L+1/(1j*w*C)]]\n",
    "b=[vs,0]\n",
    "I = np.linalg.solve(a, b)\n",
    "I1=cmath.polar(I[0])\n",
    "I2=cmath.polar(I[1])\n",
    "\n",
    "print('    ','mod','   ang')\n",
    "print('I1 =',np.round(I1[0],3),np.round(math.degrees(I1[1]),3))\n",
    "print('I2 =',np.round(I2[0],3),np.round(math.degrees(I2[1]),3))"
   ]
  },
  {
   "cell_type": "markdown",
   "metadata": {},
   "source": [
    "___\n",
    "#### Determine las tensiones nodales del siguiente circuito:\n",
    "\n",
    "<img src=\"ej4.png\" alt= “” width=\"60%\" height=\"60%\">"
   ]
  },
  {
   "cell_type": "markdown",
   "metadata": {},
   "source": [
    "#### Aplicando análisis de nodos:\n",
    "\n",
    "$-1.5\\angle{24}+\\dfrac{V_1}{j2}+\\dfrac{V_1-V_2}{2-j}=0$\n",
    "\n",
    "$2\\angle{38}+\\dfrac{V_2}{4\\angle{10}}+\\dfrac{V_2-V_1}{2-j}=0$"
   ]
  },
  {
   "cell_type": "code",
   "execution_count": 72,
   "metadata": {},
   "outputs": [
    {
     "name": "stdout",
     "output_type": "stream",
     "text": [
      "     mod    ang\n",
      "V1 = 1.309 31.399\n",
      "V2 = 2.201 -163.471\n"
     ]
    }
   ],
   "source": [
    "Is1=cmath.rect(1.5,math.radians(24))\n",
    "Is2=cmath.rect(2,math.radians(38))\n",
    "\n",
    "Z1=2j\n",
    "Z2=2-1j\n",
    "Z3=cmath.rect(4,math.radians(10))\n",
    "\n",
    "a=[[1/Z1+1/Z2,-1/Z2],[-1/Z2,1/Z2+1/Z3]]\n",
    "b=[Is1,-1*Is2]\n",
    "\n",
    "V = np.linalg.solve(a, b)\n",
    "\n",
    "V1=cmath.polar(V[0])\n",
    "V2=cmath.polar(V[1])\n",
    "\n",
    "print('    ','mod','   ang')\n",
    "print('V1 =',np.round(V1[0],3),np.round(math.degrees(V1[1]),3))\n",
    "print('V2 =',np.round(V2[0],3),np.round(math.degrees(V2[1]),3))"
   ]
  },
  {
   "cell_type": "code",
   "execution_count": 73,
   "metadata": {},
   "outputs": [
    {
     "name": "stdout",
     "output_type": "stream",
     "text": [
      "0.6544972203821852 -58.60063827373778\n"
     ]
    }
   ],
   "source": [
    "I1=V[0]/Z1\n",
    "I1p=cmath.polar(I1)\n",
    "print(I1p[0],math.degrees(I1p[1]))"
   ]
  },
  {
   "cell_type": "markdown",
   "metadata": {},
   "source": [
    "___\n",
    "#### Halle el equivalente de Thévenin del siguiente circuito:\n",
    "\n",
    "<img src=\"ej5.png\" alt= “” width=\"70%\" height=\"70%\">"
   ]
  },
  {
   "cell_type": "markdown",
   "metadata": {},
   "source": [
    "#### $V_{oc}$ Utilizando superposición:\n",
    "\n",
    "#### Solo con fuente de 222 A:\n",
    "\n",
    "$V_{oc}^{'} = 0$\n",
    "\n",
    "#### Solo con fuente 33 A (tomando como positivo el terminal superior):\n",
    "\n",
    "$V_{oc}^{''} = -2 I_{33}\\dfrac{9||4}{9||4+2}$\n",
    "\n",
    "#### Solo con fuente 2 A:\n",
    "\n",
    "$V_{oc}^{'''} = V_{20}\\dfrac{2||4}{2||4+9}$\n",
    "\n",
    "#### quedando: $V_{oc}=V_{oc}^{'}+V_{oc}^{''}+V_{oc}^{'''}$\n",
    "\n",
    "#### Y la resistencia de Thévenin: $R_{th}=9||4+2$"
   ]
  },
  {
   "cell_type": "code",
   "execution_count": 74,
   "metadata": {},
   "outputs": [
    {
     "name": "stdout",
     "output_type": "stream",
     "text": [
      "Vth = -35.742\n",
      "Rth = 4.769\n"
     ]
    }
   ],
   "source": [
    "Rth=calc_parallel(9,4)+2\n",
    "\n",
    "Voc1=0\n",
    "Voc2=-2*33*calc_parallel(9,4)/(calc_parallel(9,4)+2)\n",
    "Voc3=20*calc_parallel(2,4)/(calc_parallel(2,4)+9)\n",
    "\n",
    "Voc=Voc1+Voc2+Voc3\n",
    "\n",
    "print('Vth =',np.round(Voc,3))\n",
    "print('Rth =',np.round(Rth,3))"
   ]
  },
  {
   "cell_type": "markdown",
   "metadata": {},
   "source": [
    "___\n",
    "#### Halle el equivalente de Thévenin del siguiente circuito:\n",
    "\n",
    "<img src=\"ej6.png\" alt= “” width=\"45%\" height=\"45%\">"
   ]
  },
  {
   "cell_type": "markdown",
   "metadata": {},
   "source": [
    "$V_{oc}=I_{sc}R_{th}$\n",
    "\n",
    "$I_{sc}=22\\angle{30}A$\n",
    "\n",
    "$R_{th}=j10||(12-j34)$"
   ]
  },
  {
   "cell_type": "code",
   "execution_count": 75,
   "metadata": {},
   "outputs": [
    {
     "name": "stdout",
     "output_type": "stream",
     "text": [
      "       mod    ang\n",
      "Vth = 295.616 112.875\n",
      "Zth = 13.437 82.875\n"
     ]
    }
   ],
   "source": [
    "Z_th=calc_parallel(12-34j,10j)\n",
    "Isc=cmath.rect(22,math.radians(30))\n",
    "V_oc=Isc*Z_th\n",
    "\n",
    "V_ocp=cmath.polar(V_oc)\n",
    "Z_thp=cmath.polar(Z_th)\n",
    "\n",
    "print('      ','mod','   ang')\n",
    "print('Vth =',np.round(V_ocp[0],3),np.round(math.degrees(V_ocp[1]),3))\n",
    "print('Zth =',np.round(Z_thp[0],3),np.round(math.degrees(Z_thp[1]),3))"
   ]
  },
  {
   "cell_type": "markdown",
   "metadata": {},
   "source": [
    "___\n",
    "#### Determine y clasifique la función de transferencia de la siguiente porción de circuito:\n",
    "\n",
    "<img src=\"ej7.png\" alt= “” width=\"45%\" height=\"45%\">"
   ]
  },
  {
   "cell_type": "markdown",
   "metadata": {},
   "source": [
    "#### En esta red $v_{ent}(t)=v_o(t)$ lo cual lleva a $H(s)=1$"
   ]
  },
  {
   "cell_type": "markdown",
   "metadata": {},
   "source": [
    "___\n",
    "### En el caso de los ejercicios de filtros hay varias soluciones pudiendose escoger diferentes redes. La solución que se utilizará en los 4 ejercicios será a partir de redes RC"
   ]
  },
  {
   "cell_type": "markdown",
   "metadata": {},
   "source": [
    "___\n",
    "#### Diseñe un filtro pasabajas con una frecuencia de corte de 1 450 rad/s."
   ]
  },
  {
   "cell_type": "markdown",
   "metadata": {},
   "source": [
    "#### Utilizando una red RC de la forma:\n",
    "\n",
    "<img src=\"pb.png\" alt= “” width=\"35%\" height=\"35%\">\n",
    "\n",
    "$H(s)=\\dfrac{\\dfrac{1}{Cs}}{R+\\dfrac{1}{Cs}}=\\dfrac{1}{RCs+1}$\n",
    "\n",
    "$s=j\\omega$\n",
    "\n",
    "#### Obtener los valores de R y C que cumplan:\n",
    "\n",
    "$|H(j\\omega_c)|=\\dfrac{1}{\\sqrt{2}}$\n",
    "\n",
    "$|H(j\\omega_c)|=\\dfrac{1}{\\sqrt{(RC\\omega)^2+1}}$\n",
    "\n",
    "#### Dar un valor a $R$ y calcular $C=\\dfrac{1}{R\\omega_c}$"
   ]
  },
  {
   "cell_type": "code",
   "execution_count": 76,
   "metadata": {},
   "outputs": [
    {
     "name": "stdout",
     "output_type": "stream",
     "text": [
      "R  4.7 k_ohm\n",
      "C  146.735 nF\n"
     ]
    }
   ],
   "source": [
    "R=4.7e3\n",
    "w=1450\n",
    "\n",
    "C=1/(R*w)\n",
    "\n",
    "print('R ', R*1e-3, 'k_ohm')\n",
    "print('C ', np.round(C*1e9,3), 'nF')"
   ]
  },
  {
   "cell_type": "markdown",
   "metadata": {},
   "source": [
    "___\n",
    "#### Diseñe un filtro pasaaltas con una frecuencia de esquina de 100 rad/s."
   ]
  },
  {
   "cell_type": "markdown",
   "metadata": {},
   "source": [
    "#### Utilizando una red RC de la forma:\n",
    "\n",
    "<img src=\"pa.png\" alt= “” width=\"35%\" height=\"35%\">\n",
    "\n",
    "$H(s)=\\dfrac{R}{R+\\dfrac{1}{Cs}}=\\dfrac{RCs}{RCs+1}$\n",
    "\n",
    "$s=j\\omega$\n",
    "\n",
    "#### Obtener los valores de R y C que cumplan:\n",
    "\n",
    "$|H(j\\omega_c)|=\\dfrac{1}{\\sqrt{2}}$\n",
    "\n",
    "$|H(j\\omega_c)|=\\dfrac{RC\\omega}{\\sqrt{(RC\\omega)^2+1}}$\n",
    "\n",
    "#### Dar un valor a $R$ y calcular $C=\\dfrac{1}{R\\omega_c}$"
   ]
  },
  {
   "cell_type": "code",
   "execution_count": 77,
   "metadata": {},
   "outputs": [
    {
     "name": "stdout",
     "output_type": "stream",
     "text": [
      "R  4.7 k_ohm\n",
      "C  2127.66 nF\n"
     ]
    }
   ],
   "source": [
    "R=4.7e3\n",
    "w=100\n",
    "\n",
    "C=1/(R*w)\n",
    "\n",
    "print('R ', R*1e-3, 'k_ohm')\n",
    "print('C ', np.round(C*1e9,3), 'nF')"
   ]
  },
  {
   "cell_type": "markdown",
   "metadata": {},
   "source": [
    "___\n",
    "#### Diseñe un filtro pasabanda caracterizado por un ancho de banda de 1 000 rad/s y una frecuencia de esquina de baja frecuencia de 250 Hz."
   ]
  },
  {
   "cell_type": "markdown",
   "metadata": {},
   "source": [
    "#### Poniendo en cascada:\n",
    "* Red RC correspondiente a pasalto con $f_c=250 \\: \\mathrm{Hz}$\n",
    "* Red RC correspondiente a pasabajo con $w_c=1000 \\: \\mathrm{rad/s}$"
   ]
  },
  {
   "cell_type": "code",
   "execution_count": 78,
   "metadata": {},
   "outputs": [
    {
     "name": "stdout",
     "output_type": "stream",
     "text": [
      "pasa bajo\n",
      "R  4.7 k_ohm\n",
      "C  212.766 nF\n",
      "\n",
      "pasa alto\n",
      "R  4.7 k_ohm\n",
      "C  135.451 nF\n"
     ]
    }
   ],
   "source": [
    "R=4.7e3\n",
    "w_pa=2*np.pi*250\n",
    "w_pb=1000\n",
    "\n",
    "C_pa=1/(R*w_pa)\n",
    "C_pb=1/(R*w_pb)\n",
    "\n",
    "print('pasa bajo')\n",
    "print('R ', R*1e-3, 'k_ohm')\n",
    "print('C ', np.round(C_pb*1e9,3), 'nF')\n",
    "print('')\n",
    "print('pasa alto')\n",
    "print('R ', R*1e-3, 'k_ohm')\n",
    "print('C ', np.round(C_pa*1e9,3), 'nF')"
   ]
  },
  {
   "cell_type": "markdown",
   "metadata": {},
   "source": [
    "___\n",
    "#### Diseñe un filtro pasabanda que tenga un corte de baja frecuencia de 500 Hz y un corte de alta frecuencia de 1580 Hz."
   ]
  },
  {
   "cell_type": "markdown",
   "metadata": {},
   "source": [
    "#### Poniendo en cascada:\n",
    "* Red RC correspondiente a pasalto con $f_c=500 \\: \\mathrm{Hz}$\n",
    "* Red RC correspondiente a pasabajo con $f_c=580 \\: \\mathrm{rad/s}$"
   ]
  },
  {
   "cell_type": "code",
   "execution_count": 67,
   "metadata": {},
   "outputs": [
    {
     "name": "stdout",
     "output_type": "stream",
     "text": [
      "pasa bajo\n",
      "R  4.7 k_ohm\n",
      "C  21.432 nF\n",
      "\n",
      "pasa alto\n",
      "R  4.7 k_ohm\n",
      "C  67.726 nF\n"
     ]
    }
   ],
   "source": [
    "R=4.7e3\n",
    "w_pa=2*np.pi*500\n",
    "w_pb=2*np.pi*1580\n",
    "\n",
    "C_pa=1/(R*w_pa)\n",
    "C_pb=1/(R*w_pb)\n",
    "\n",
    "print('pasa bajo')\n",
    "print('R ', R*1e-3, 'k_ohm')\n",
    "print('C ', np.round(C_pb*1e9,3), 'nF')\n",
    "print('')\n",
    "print('pasa alto')\n",
    "print('R ', R*1e-3, 'k_ohm')\n",
    "print('C ', np.round(C_pa*1e9,3), 'nF')"
   ]
  },
  {
   "cell_type": "code",
   "execution_count": null,
   "metadata": {},
   "outputs": [],
   "source": []
  }
 ],
 "metadata": {
  "kernelspec": {
   "display_name": "Python 3",
   "language": "python",
   "name": "python3"
  },
  "language_info": {
   "codemirror_mode": {
    "name": "ipython",
    "version": 3
   },
   "file_extension": ".py",
   "mimetype": "text/x-python",
   "name": "python",
   "nbconvert_exporter": "python",
   "pygments_lexer": "ipython3",
   "version": "3.8.10"
  }
 },
 "nbformat": 4,
 "nbformat_minor": 4
}
