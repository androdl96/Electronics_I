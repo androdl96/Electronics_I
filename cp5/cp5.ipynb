{
 "cells": [
  {
   "cell_type": "code",
   "execution_count": 226,
   "metadata": {},
   "outputs": [],
   "source": [
    "import cmath\n",
    "import numpy as np\n",
    "import math\n",
    "import sympy as sp\n",
    "from sympy import Symbol\n",
    "\n",
    "def calc_parallel(R1,R2):\n",
    "    return R1*R2/(R1+R2)\n",
    "\n",
    "def V_div(Vs,R1,R2):\n",
    "    return Vs*R1/(R1+R2)\n",
    "\n",
    "def I_div(Is,R1,R2):\n",
    "    return Is*R2/(R1+R2)\n",
    "\n",
    "def calc_exp(A,ab,t):\n",
    "    return A*np.exp(-1*ab*t)"
   ]
  },
  {
   "cell_type": "markdown",
   "metadata": {},
   "source": [
    "_____\n",
    "### Clase Práctica 5\n",
    "\n",
    "#### Temas\n",
    "* Análisis de circuitos en el dominio de $s$.\n",
    "* Potencia.\n",
    "\n",
    "#### Bibliografía: Análisis de circuitos en ingeniería. Hayt $et \\: al.$ 8va ed. Capítulo 10, 11, 14 y 15."
   ]
  },
  {
   "cell_type": "markdown",
   "metadata": {},
   "source": [
    "___\n",
    "#### 1- Respecto al circuito representado en la figura:\n",
    "\n",
    "<img src=\"c1.png\" alt= “” width=\"40%\" height=\"40%\">\n",
    "\n",
    "#### a) Calcule el equivalente de Thévenin visto desde las terminales marcadas $a$ y $b$.\n",
    "\n",
    "#### b) Determine el equivalente de Norton visto desde las terminales marcadas $a$ y $b$.\n",
    "\n",
    "#### c) Calcule la corriente que fluye de $a$ a $b$ si una impedancia de $(7-2j)\\:\\Omega$ está conectada entre dichas terminales."
   ]
  },
  {
   "cell_type": "code",
   "execution_count": 227,
   "metadata": {},
   "outputs": [
    {
     "name": "stdout",
     "output_type": "stream",
     "text": [
      "Vth = 295.616 112.875\n",
      "IN = 22.0 30.0\n",
      "Zth = 13.437 82.875\n",
      "b) I= 20.72 60.28\n"
     ]
    }
   ],
   "source": [
    "Is=cmath.rect(22,math.radians(30))\n",
    "V_oc=(12-34j)*I_div(Is,12-34j,10j)\n",
    "Z_th=calc_parallel(12-34j,10j)\n",
    "I_N=V_oc/R_th\n",
    "\n",
    "V_ocp=cmath.polar(V_oc)\n",
    "I_Np=cmath.polar(I_N)\n",
    "Z_thp=cmath.polar(Z_th)\n",
    "print('Vth =',np.round(V_ocp[0],3),np.round(math.degrees(V_ocp[1]),3))\n",
    "print('IN =',np.round(I_Np[0],3),np.round(math.degrees(I_Np[1]),3))\n",
    "print('Zth =',np.round(Z_thp[0],3),np.round(math.degrees(Z_thp[1]),3))\n",
    "\n",
    "\n",
    "I=I_div(I_N,7-2j,Z_th)\n",
    "Ip=cmath.polar(I)\n",
    "print('b)','I=',np.round(Ip[0],3),np.round(math.degrees(Ip[1]),3))"
   ]
  },
  {
   "cell_type": "markdown",
   "metadata": {},
   "source": [
    "___\n",
    "### Dominio s:\n",
    "\n",
    "$F(s)=\\int^{\\infty}_{0^-}f(t)e^{-st}dt$\n",
    "\n",
    "$f(t)=\\dfrac{1}{2\\pi j}\\int^{\\sigma_0+j\\infty}_{\\sigma_0-j\\infty}F(s)e^{st}ds$\n",
    "\n",
    "<img src=\"s3.png\" alt= “” width=\"100%\" height=\"100%\">\n",
    "<img src=\"s1.png\" alt= “” width=\"80%\" height=\"80%\">\n",
    "<img src=\"s2.png\" alt= “” width=\"100%\" height=\"100%\">"
   ]
  },
  {
   "cell_type": "markdown",
   "metadata": {},
   "source": [
    "_____\n",
    "#### 2- Determine la corriente $i(t)$ del circuito de la figura.\n",
    "\n",
    "<img src=\"c2.png\" alt= “” width=\"40%\" height=\"40%\">"
   ]
  },
  {
   "cell_type": "markdown",
   "metadata": {},
   "source": [
    "#### En el tiempo:\n",
    "\n",
    "$4u(t)=i(t)R+L\\dfrac{di}{dt}$\n",
    "\n",
    "#### En $s$:\n",
    "\n",
    "$\\dfrac{4}{s}=I(s)R+sLI(s)-i(0^-)L$\n",
    "\n",
    "$I(s)=\\dfrac{\\dfrac{4}{s}+i(0^-)L}{R+sL}$"
   ]
  },
  {
   "cell_type": "code",
   "execution_count": 228,
   "metadata": {},
   "outputs": [
    {
     "name": "stdout",
     "output_type": "stream",
     "text": [
      "Is after partial fraction decomposition:\n"
     ]
    },
    {
     "data": {
      "text/latex": [
       "$\\displaystyle - \\frac{13}{3 \\left(s + 4\\right)} + \\frac{1}{3 s}$"
      ],
      "text/plain": [
       "-13/(3*(s + 4)) + 1/(3*s)"
      ]
     },
     "execution_count": 228,
     "metadata": {},
     "output_type": "execute_result"
    }
   ],
   "source": [
    "i0=-4\n",
    "L=3\n",
    "R=12\n",
    "\n",
    "s=Symbol('s')\n",
    "t=Symbol('t')\n",
    "Is=(4/s+i0*L)/(R+s*L)\n",
    "print('Is after partial fraction decomposition:')\n",
    "sp.apart(Is)"
   ]
  },
  {
   "cell_type": "code",
   "execution_count": 229,
   "metadata": {},
   "outputs": [
    {
     "name": "stdout",
     "output_type": "stream",
     "text": [
      "i(t) after inverse transform\n"
     ]
    },
    {
     "data": {
      "text/latex": [
       "$\\displaystyle \\frac{\\left(e^{4 t} - 13\\right) e^{- 4 t} \\theta\\left(t\\right)}{3}$"
      ],
      "text/plain": [
       "(exp(4*t) - 13)*exp(-4*t)*Heaviside(t)/3"
      ]
     },
     "execution_count": 229,
     "metadata": {},
     "output_type": "execute_result"
    }
   ],
   "source": [
    "print('i(t) after inverse transform')\n",
    "sp.inverse_laplace_transform(sp.apart(Is), s, t)"
   ]
  },
  {
   "cell_type": "code",
   "execution_count": 230,
   "metadata": {},
   "outputs": [
    {
     "data": {
      "text/latex": [
       "$\\displaystyle - \\frac{13 e^{- 4 t} \\theta\\left(t\\right)}{3}$"
      ],
      "text/plain": [
       "-13*exp(-4*t)*Heaviside(t)/3"
      ]
     },
     "execution_count": 230,
     "metadata": {},
     "output_type": "execute_result"
    }
   ],
   "source": [
    "F0=-13/(3*(s+4))\n",
    "sp.inverse_laplace_transform(F0, s, t)"
   ]
  },
  {
   "cell_type": "code",
   "execution_count": 231,
   "metadata": {},
   "outputs": [
    {
     "data": {
      "text/latex": [
       "$\\displaystyle \\frac{\\theta\\left(t\\right)}{3}$"
      ],
      "text/plain": [
       "Heaviside(t)/3"
      ]
     },
     "execution_count": 231,
     "metadata": {},
     "output_type": "execute_result"
    }
   ],
   "source": [
    "F1=1/(3*s)\n",
    "sp.inverse_laplace_transform(F1, s, t)"
   ]
  },
  {
   "cell_type": "markdown",
   "metadata": {},
   "source": [
    "___\n",
    "#### 3- Calcule la tensión $v_x$ en el circuito de la figura utilizando las técnicas del análisis nodal.\n",
    "### (EJEMPLO 15.4)\n",
    "<img src=\"c3.png\" alt= “” width=\"60%\" height=\"60%\">"
   ]
  },
  {
   "cell_type": "markdown",
   "metadata": {},
   "source": [
    "#### Considerando que $v_c(0^-)=2V$ y $i_L(0^-)=0$:\n",
    "\n",
    "<img src=\"ej3.png\" alt= “” width=\"45%\" height=\"45%\">\n",
    "\n",
    "$-1=\\dfrac{V_x-\\dfrac{7}{s}}{\\dfrac{2}{s}}+V_x+\\dfrac{V_x-\\dfrac{4}{s}}{4s}$\n",
    "\n",
    "$-1=\\dfrac{sV_x}{2}-\\dfrac{7}{2}+V_x+\\dfrac{V_x}{4s}-\\dfrac{1}{s^2}$\n",
    "\n",
    "$V_x=\\dfrac{\\dfrac{5}{2}+\\dfrac{1}{s^2}}{\\dfrac{s}{2}+1+\\dfrac{1}{4s}}$"
   ]
  },
  {
   "cell_type": "code",
   "execution_count": 55,
   "metadata": {},
   "outputs": [
    {
     "data": {
      "text/latex": [
       "$\\displaystyle \\frac{2.5 + \\frac{1}{s^{2}}}{\\frac{s}{2} + 1 + \\frac{1}{4 s}}$"
      ],
      "text/plain": [
       "(2.5 + s**(-2))/(s/2 + 1 + 1/(4*s))"
      ]
     },
     "execution_count": 55,
     "metadata": {},
     "output_type": "execute_result"
    }
   ],
   "source": [
    "Vx=(5/2+1/s**2)/(s/2+1+1/(4*s))\n",
    "Vx"
   ]
  },
  {
   "cell_type": "code",
   "execution_count": 79,
   "metadata": {},
   "outputs": [
    {
     "data": {
      "text/latex": [
       "$\\displaystyle \\frac{4.0 \\left(0.125 s - 1.0\\right)}{0.5 s^{2} + 1.0 s + 0.25} + \\frac{4.0}{s}$"
      ],
      "text/plain": [
       "4.0*(0.125*s - 1.0)/(0.5*s**2 + 1.0*s + 0.25) + 4.0/s"
      ]
     },
     "execution_count": 79,
     "metadata": {},
     "output_type": "execute_result"
    }
   ],
   "source": [
    "sp.apart(Vx)"
   ]
  },
  {
   "cell_type": "code",
   "execution_count": 80,
   "metadata": {},
   "outputs": [
    {
     "data": {
      "text/latex": [
       "$\\displaystyle 4.0 \\theta\\left(t\\right) + 6.86396103067893 e^{- 1.70710678118655 t} \\theta\\left(t\\right) - 5.86396103067893 e^{- 0.292893218813453 t} \\theta\\left(t\\right)$"
      ],
      "text/plain": [
       "4.0*Heaviside(t) + 6.86396103067893*exp(-1.70710678118655*t)*Heaviside(t) - 5.86396103067893*exp(-0.292893218813453*t)*Heaviside(t)"
      ]
     },
     "execution_count": 80,
     "metadata": {},
     "output_type": "execute_result"
    }
   ],
   "source": [
    "sp.inverse_laplace_transform(sp.apart(Vx), s, t)"
   ]
  },
  {
   "cell_type": "code",
   "execution_count": 85,
   "metadata": {},
   "outputs": [
    {
     "data": {
      "text/latex": [
       "$\\displaystyle 5.0 \\theta\\left(0\\right)$"
      ],
      "text/plain": [
       "5.0*Heaviside(0)"
      ]
     },
     "execution_count": 85,
     "metadata": {},
     "output_type": "execute_result"
    }
   ],
   "source": [
    "sp.inverse_laplace_transform(sp.apart(Vx), s, t).subs(t,0)"
   ]
  },
  {
   "cell_type": "markdown",
   "metadata": {},
   "source": [
    "___\n",
    "\n",
    "### Potencia\n",
    "\n",
    "<img src=\"P2.png\" alt= “” width=\"100%\" height=\"100%\">\n",
    "<img src=\"P1.png\" alt= “” width=\"100%\" height=\"100%\">"
   ]
  },
  {
   "cell_type": "markdown",
   "metadata": {},
   "source": [
    "___\n",
    "#### 4- Con referencia al circuito de dos mallas representado en la figura, determine la potencia promedio absorbida por cada elemento pasivo y la potencia promedio suministrada por cada fuente, y verifique que la potencia promedio total suministrada = potencia promedio total absorbida.\n",
    "\n",
    "<img src=\"c_p1.png\" alt= “” width=\"60%\" height=\"60%\">"
   ]
  },
  {
   "cell_type": "markdown",
   "metadata": {},
   "source": [
    "$79\\angle-40=5I_1+j7(I_1-I_2)$\n",
    "\n",
    "$152\\angle180=j7(I_2-I_1)-j3.1I_2$"
   ]
  },
  {
   "cell_type": "code",
   "execution_count": 232,
   "metadata": {},
   "outputs": [
    {
     "name": "stdout",
     "output_type": "stream",
     "text": [
      "I1 = 29.181 -118.492\n",
      "I2 = 25.963 -164.225\n"
     ]
    }
   ],
   "source": [
    "R=5\n",
    "ZL=7j\n",
    "ZC=-3.1j\n",
    "\n",
    "V1=cmath.rect(79,math.radians(-40))\n",
    "V2=cmath.rect(152,math.radians(180))\n",
    "\n",
    "a=[[5+7j,-7j],\n",
    "   [-7j,7j-3.1j]]\n",
    "b=[V1,V2]\n",
    "\n",
    "I = np.linalg.solve(a, b)\n",
    "I1=cmath.polar(I[0])\n",
    "I2=cmath.polar(I[1])\n",
    "print('I1 =',np.round(I1[0],3),np.round(math.degrees(I1[1]),3))\n",
    "print('I2 =',np.round(I2[0],3),np.round(math.degrees(I2[1]),3))"
   ]
  },
  {
   "cell_type": "code",
   "execution_count": 233,
   "metadata": {},
   "outputs": [],
   "source": [
    "V1p=cmath.polar(V1)\n",
    "V2p=cmath.polar(V2)\n",
    "\n",
    "P_V1=0.5*V1p[0]*I1[0]*np.cos(I1[1]-V1p[1])\n",
    "\n",
    "P_V2=0.5*V2p[0]*I2[0]*np.cos(I2[1]-np.pi)\n",
    "\n",
    "P_R=np.cos(0)*R*0.5*I1[0]**2\n",
    "P_L=np.cos(np.pi/2)*np.abs(ZL)*0.5*np.abs(I1[0]-I2[0])**2\n",
    "P_C=np.cos(-np.pi/2)*np.abs(ZC)*0.5*np.abs(I2[0])**2"
   ]
  },
  {
   "cell_type": "code",
   "execution_count": 234,
   "metadata": {},
   "outputs": [
    {
     "name": "stdout",
     "output_type": "stream",
     "text": [
      "PL= 0.0 W / PC= 0.0 W\n",
      "PV2= 229.9652 W / PV2= 1898.8699 W\n",
      "PS= 2128.8351 W / PR= 2128.8351 W\n"
     ]
    }
   ],
   "source": [
    "print('PL=',np.round(P_L,4),'W','/','PC=',np.round(P_C,4),'W')\n",
    "print('PV2=',np.round(P_V1,4),'W','/','PV2=',np.round(P_V2,4),'W')\n",
    "print('PS=',np.round(P_V1+P_V2,4),'W','/','PR=',np.round(P_R,4),'W')"
   ]
  },
  {
   "cell_type": "markdown",
   "metadata": {},
   "source": [
    "___\n",
    "#### 5- Con referencia al circuito de la figura, determine si un valor puramente real de R puede dar por resultado tensiones rms iguales entre las terminales del inductor de $14 \\mathrm{mH}$ y la resistencia R. Si es así, calcule R y la tensión rms entre sus terminales; si no, explique por qué no.\n",
    "\n",
    "<img src=\"c_p2.png\" alt= “” width=\"45%\" height=\"45%\">"
   ]
  },
  {
   "cell_type": "markdown",
   "metadata": {},
   "source": [
    "$V_L=V_s\\dfrac{Z_{L1}}{Z_{L1}+Z_{L2}||R}$\n",
    "\n",
    "$\\left|\\dfrac{Z_{L1}}{Z_{L1}+Z_{L2}||R}\\right|=\\dfrac{1}{2}$\n",
    "\n",
    "$\\dfrac{\\left|Z_{L1}\\right|}{\\left|Z_{L1}+Z_{L2}||R\\right|}=\\dfrac{1}{2}$\n",
    "\n",
    "$2\\omega L_1=\\left|j\\omega L_1+\\dfrac{j\\omega L_2R}{j\\omega L_2+R}\\right|$\n",
    "\n",
    "$2\\omega L_1 \\leq \\left|j\\omega L_1\\right| +\\dfrac{\\left|j\\omega L_2R\\right|}{\\left|j\\omega L_2+R\\right|}$\n",
    "\n",
    "$\\omega L_1 \\leq \\dfrac{\\omega L_2R}{\\sqrt{\\omega^2 L_2^2+R^2}}$\n",
    "\n",
    "$\\omega^2 L_2^2+R^2 \\leq \\dfrac{L_2^2}{L_1^2}R^2 $\n",
    "\n",
    "$R^2\\leq \\dfrac{-\\omega^2 L_2^2}{\\left(1-\\dfrac{L_2^2}{L_1^2}\\right)}$"
   ]
  },
  {
   "cell_type": "code",
   "execution_count": 235,
   "metadata": {},
   "outputs": [],
   "source": [
    "w=40\n",
    "L2=28e-3\n",
    "L1=14e-3\n",
    "\n",
    "R=np.sqrt((-1*(w**2)*(L2)**2)/(1-(L2/L1)**2))"
   ]
  },
  {
   "cell_type": "code",
   "execution_count": 236,
   "metadata": {},
   "outputs": [],
   "source": [
    "#R=0.5"
   ]
  },
  {
   "cell_type": "code",
   "execution_count": 237,
   "metadata": {},
   "outputs": [
    {
     "data": {
      "text/plain": [
       "120.08885599144217"
      ]
     },
     "execution_count": 237,
     "metadata": {},
     "output_type": "execute_result"
    }
   ],
   "source": [
    "ZL1=1j*w*L1\n",
    "Z2=calc_parallel(R,1j*w*L2)\n",
    "\n",
    "np.abs(V_div(208,ZL1,Z2))"
   ]
  },
  {
   "cell_type": "code",
   "execution_count": 238,
   "metadata": {},
   "outputs": [
    {
     "data": {
      "text/plain": [
       "120.08885599144219"
      ]
     },
     "execution_count": 238,
     "metadata": {},
     "output_type": "execute_result"
    }
   ],
   "source": [
    "np.abs(V_div(208,Z2,ZL1))"
   ]
  },
  {
   "cell_type": "markdown",
   "metadata": {},
   "source": [
    "___\n",
    "#### 6- Calcule la potencia compleja suministrada a cada componente pasivo del circuito que se muestra en la figura, y determine el factor de potencia de la fuente.\n",
    "\n",
    "<img src=\"c_p3.png\" alt= “” width=\"45%\" height=\"45%\">\n",
    "\n",
    "#### a) Reemplace la resistencia de 10 $\\Omega$ en el circuito de la figura por un inductor de $200 \\mathrm{mH}$, suponga una frecuencia de operación de 10 rad/s y calcule: el FP de la fuente, la potencia aparente suministrada por la fuente y la potencia reactiva suministrada por la fuente."
   ]
  },
  {
   "cell_type": "markdown",
   "metadata": {},
   "source": [
    "$V_s=j30I_1+10(I_1-I_2)$\n",
    "\n",
    "$0=10(I_2-I_1)+(15-j25)I_2$"
   ]
  },
  {
   "cell_type": "code",
   "execution_count": 207,
   "metadata": {},
   "outputs": [
    {
     "name": "stdout",
     "output_type": "stream",
     "text": [
      "I1 = 1.768 -90.072\n",
      "I2 = 0.606 -31.036\n",
      "VM = 15.459 -109.726\n",
      "VD = 9.095 -31.036\n"
     ]
    }
   ],
   "source": [
    "Vs=cmath.rect(50,math.radians(-17))\n",
    "\n",
    "a=[[10+30j,-10],\n",
    "   [-10,15-25j]]\n",
    "b=[Vs,0]\n",
    "\n",
    "I = np.linalg.solve(a, b)\n",
    "I1=cmath.polar(I[0])\n",
    "I2=cmath.polar(I[1])\n",
    "\n",
    "V_M=cmath.polar((I[0]-I[1])*10)\n",
    "V_D=cmath.polar(I[1]*15)\n",
    "\n",
    "V_Mr=(I[0]-I[1])*10\n",
    "V_Dr=I[1]*15\n",
    "print('I1 =',np.round(I1[0],3),np.round(math.degrees(I1[1]),3))\n",
    "print('I2 =',np.round(I2[0],3),np.round(math.degrees(I2[1]),3))\n",
    "print('VM =',np.round(V_M[0],3),np.round(math.degrees(V_M[1]),3))\n",
    "print('VD =',np.round(V_D[0],3),np.round(math.degrees(V_D[1]),3))"
   ]
  },
  {
   "cell_type": "code",
   "execution_count": 214,
   "metadata": {},
   "outputs": [],
   "source": [
    "S_j30=(Vs-V_Mr)*np.conjugate(I[0])\n",
    "S_R10=V_Mr*np.conjugate(I[0]-I[1])\n",
    "S_R15=V_Dr*np.conjugate(I[1])\n",
    "S_j25=(V_Mr-V_Dr)*np.conjugate(I[1])"
   ]
  },
  {
   "cell_type": "code",
   "execution_count": 217,
   "metadata": {},
   "outputs": [
    {
     "data": {
      "text/plain": [
       "(23.897058823529406+8.881784197001252e-16j)"
      ]
     },
     "execution_count": 217,
     "metadata": {},
     "output_type": "execute_result"
    }
   ],
   "source": [
    "S_R10"
   ]
  },
  {
   "cell_type": "code",
   "execution_count": 218,
   "metadata": {},
   "outputs": [
    {
     "data": {
      "text/plain": [
       "(-0.5217728349368019+1.4551491301838975j)"
      ]
     },
     "execution_count": 218,
     "metadata": {},
     "output_type": "execute_result"
    }
   ],
   "source": [
    "np.conjugate(I[0]-I[1])"
   ]
  },
  {
   "cell_type": "code",
   "execution_count": null,
   "metadata": {},
   "outputs": [],
   "source": []
  }
 ],
 "metadata": {
  "kernelspec": {
   "display_name": "Python 3",
   "language": "python",
   "name": "python3"
  },
  "language_info": {
   "codemirror_mode": {
    "name": "ipython",
    "version": 3
   },
   "file_extension": ".py",
   "mimetype": "text/x-python",
   "name": "python",
   "nbconvert_exporter": "python",
   "pygments_lexer": "ipython3",
   "version": "3.8.10"
  }
 },
 "nbformat": 4,
 "nbformat_minor": 4
}
