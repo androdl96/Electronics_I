{
 "cells": [
  {
   "cell_type": "code",
   "execution_count": 15,
   "metadata": {},
   "outputs": [],
   "source": [
    "import cmath\n",
    "import numpy as np\n",
    "import math\n",
    "\n",
    "def calc_parallel(R1,R2):\n",
    "    return R1*R2/(R1+R2)\n",
    "\n",
    "def V_div(Vs,R1,R2):\n",
    "    return Vs*R1/(R1+R2)\n",
    "\n",
    "def I_div(Is,R1,R2):\n",
    "    return Is*R2/(R1+R2)"
   ]
  },
  {
   "cell_type": "markdown",
   "metadata": {},
   "source": [
    "_____\n",
    "### Clase Práctica 3\n",
    "\n",
    "#### Temas\n",
    "* Análisis de nodos.\n",
    "* Análisis de mallas.\n",
    "\n",
    "#### Bibliografía: Análisis de circuitos en ingeniería. Hayt $et \\: al.$ 8va ed. Capítulo 4\n",
    "_____"
   ]
  },
  {
   "cell_type": "markdown",
   "metadata": {},
   "source": [
    "#### 1- Usando análisis de nodos o de mallas, determine la tensión marcada como $v_x$ en el circuito representado en la figura. \n",
    " \n",
    "#### b) ¿A qué valor se debe cambiar la fuente de 2 A para reducir $v_x$ en 10\\%?\n",
    "\n",
    "<img src=\"c1.png\" alt= “” width=\"50%\" height=\"50%\">"
   ]
  },
  {
   "cell_type": "markdown",
   "metadata": {},
   "source": [
    "#### Realizando analisis de nodo:\n",
    "\n",
    "$\\dfrac{v_+-4}{3}+\\dfrac{v_+-v_-}{1}=2$\n",
    "\n",
    "$\\dfrac{v_--v_+}{1}+\\dfrac{v_--4}{2}+\\dfrac{v_-}{5}=0$"
   ]
  },
  {
   "cell_type": "code",
   "execution_count": 23,
   "metadata": {},
   "outputs": [
    {
     "name": "stdout",
     "output_type": "stream",
     "text": [
      "v+:  6.052631578947369 V\n",
      "v-:  4.736842105263158 V\n",
      "v_x:  1.3157894736842106 V\n",
      " \n"
     ]
    },
    {
     "data": {
      "text/plain": [
       "1.666666666666666"
      ]
     },
     "execution_count": 23,
     "metadata": {},
     "output_type": "execute_result"
    }
   ],
   "source": [
    "a=[[1/3+1,-1],[-1,1+1/2+1/5]]\n",
    "b=[2+4/3,2]\n",
    "\n",
    "v = np.linalg.solve(a, b)\n",
    "print('v+: ',v[0],'V')\n",
    "print('v-: ',v[1],'V')\n",
    "print('v_x: ',v[0]-v[1],'V')\n",
    "\n",
    "print(' ')\n",
    "\n",
    "I=0.9*v[0]/3-4/3+0.9*v[0]-0.9*(2+v[0])/(1+1/2+1/5)\n",
    "#I=v[0]/3-4/3+v[0]-v[1]\n",
    "I"
   ]
  },
  {
   "cell_type": "code",
   "execution_count": 20,
   "metadata": {},
   "outputs": [
    {
     "data": {
      "text/plain": [
       "4.736842105263159"
      ]
     },
     "execution_count": 20,
     "metadata": {},
     "output_type": "execute_result"
    }
   ],
   "source": [
    "(2+v[0])/(1+1/2+1/5)"
   ]
  },
  {
   "cell_type": "code",
   "execution_count": 21,
   "metadata": {},
   "outputs": [
    {
     "name": "stdout",
     "output_type": "stream",
     "text": [
      "1.3157894736842106\n",
      "1.1842105263157896\n",
      "1.1842105263157894\n"
     ]
    }
   ],
   "source": [
    "print(v[0]-v[1])\n",
    "print(0.9*(v[0]-v[1]))\n",
    "print(0.9*v[0]-0.9*v[1])"
   ]
  },
  {
   "cell_type": "code",
   "execution_count": 9,
   "metadata": {},
   "outputs": [
    {
     "data": {
      "text/plain": [
       "8.289473684210527"
      ]
     },
     "execution_count": 9,
     "metadata": {},
     "output_type": "execute_result"
    }
   ],
   "source": [
    "-2+v[0]*(1+1/2+1/5)"
   ]
  },
  {
   "cell_type": "markdown",
   "metadata": {},
   "source": [
    "___\n",
    "#### 2- Usando el nodo inferior como referencia, determine la tensión a través de la resistencia 5 $\\Omega$ en el circuito de la figura y calcule la potencia disipada por la resistencia de 7 $\\Omega$.\n",
    "\n",
    "<img src=\"c2.png\" alt= “” width=\"40%\" height=\"40%\">"
   ]
  },
  {
   "cell_type": "markdown",
   "metadata": {},
   "source": [
    "$\\dfrac{v_1-v_2}{3}+\\dfrac{v_1-v_3}{3}=12$\n",
    "\n",
    "$\\dfrac{v_2-v_1}{3}+\\dfrac{v_2-v_3}{1}+\\dfrac{v_2}{5}=-4$\n",
    "\n",
    "$\\dfrac{v_3-v_2}{1}+\\dfrac{v_3-v_1}{3}+\\dfrac{v_3}{7}=-5$"
   ]
  },
  {
   "cell_type": "code",
   "execution_count": 28,
   "metadata": {},
   "outputs": [
    {
     "name": "stdout",
     "output_type": "stream",
     "text": [
      "v_1 26.733333333333345 V\n",
      "v_2 8.833333333333345 V V_R2\n",
      "v_3 8.633333333333345 V\n",
      "P_R7 10.647777777777806 W\n"
     ]
    }
   ],
   "source": [
    "a=[[1/3+1/3,-1/3,-1/3],\n",
    "   [-1/3,1/3+1+1/5,-1],\n",
    "   [-1/3,-1,1+1/3+1/7]]\n",
    "b=[12,-4,-5]\n",
    "\n",
    "v = np.linalg.solve(a, b)\n",
    "print('v_1',v[0],'V')\n",
    "print('v_2',v[1],'V', 'V_R2')\n",
    "print('v_3',v[2],'V')\n",
    "\n",
    "print('P_R7', v[2]**2/7,'W')"
   ]
  },
  {
   "cell_type": "markdown",
   "metadata": {},
   "source": [
    "___\n",
    "### 3- Para el circuito de la figura, determine tensiones de nodo.\n",
    "\n",
    "<img src=\"c3.png\" alt= “” width=\"30%\" height=\"30%\">"
   ]
  },
  {
   "cell_type": "markdown",
   "metadata": {},
   "source": [
    "#### considerando el supernodo formado en la fuente de 6V\n",
    "\n",
    "$\\dfrac{v_1}{1}+\\dfrac{v_1+6-5}{10}=-2$\n",
    "\n",
    "$\\dfrac{v_2}{2}+\\dfrac{v_2-5}{4}=2$"
   ]
  },
  {
   "cell_type": "code",
   "execution_count": 34,
   "metadata": {},
   "outputs": [
    {
     "name": "stdout",
     "output_type": "stream",
     "text": [
      "abajo_izq -1.909090909090909 V\n",
      "abajo_der 4.333333333333333 V\n",
      "arriba_izq 4.090909090909091 V\n",
      "arriba_der 5 V\n"
     ]
    }
   ],
   "source": [
    "v1=(-2-0.1)/(1.1)\n",
    "v2=(2+5/4)/(1/2+1/4)\n",
    "\n",
    "print('abajo_izq',v1,'V')\n",
    "print('abajo_der',v2,'V')\n",
    "print('arriba_izq',v1+6,'V')\n",
    "print('arriba_der',5,'V')"
   ]
  },
  {
   "cell_type": "markdown",
   "metadata": {},
   "source": [
    "___\n",
    "### 4- Determine los valores numéricos para cada una de las tres corrientes de malla marcadas en el diagrama de circuito de la figura.\n",
    "\n",
    "<img src=\"c4.png\" alt= “” width=\"40%\" height=\"40%\">"
   ]
  },
  {
   "cell_type": "markdown",
   "metadata": {},
   "source": [
    "$1(i_1-i_2)+5(i_1-i_3)=5$\n",
    "\n",
    "$6i_2+9(i_2-i_3)+1(i_2-i_1)=0$\n",
    "\n",
    "$7i_3+5(i_3-i_1)+9(i_3-i_2)=-3$"
   ]
  },
  {
   "cell_type": "code",
   "execution_count": 38,
   "metadata": {},
   "outputs": [
    {
     "name": "stdout",
     "output_type": "stream",
     "text": [
      "i1 989.2051030421981 mA\n",
      "i2 150.1472031403336 mA\n",
      "i3 157.0166830225711 mA\n"
     ]
    }
   ],
   "source": [
    "a=[[1+5,-1,-5],\n",
    "   [-1,6+9+1,-9],\n",
    "   [-5,-9,7+5+9]]\n",
    "b=[5,0,-3]\n",
    "\n",
    "i = np.linalg.solve(a, b)\n",
    "print('i1',i[0]*1e3,'mA')\n",
    "print('i2',i[1]*1e3,'mA')\n",
    "print('i3',i[2]*1e3,'mA')"
   ]
  },
  {
   "cell_type": "markdown",
   "metadata": {},
   "source": [
    "___\n",
    "### 5- Usando procedimientos de análisis de mallas, obtenga el valor para la corriente marcada como $i$ en el circuito representado por la figura.\n",
    "\n",
    "<img src=\"c5.png\" alt= “” width=\"40%\" height=\"40%\">"
   ]
  },
  {
   "cell_type": "markdown",
   "metadata": {},
   "source": [
    "$i=i_3-i_2$\n",
    "\n",
    "$3i_1+4(i_1-i_2)+1(i_1-i_3)=2$\n",
    "\n",
    "$4(i_2-i_1)+1i_2=0$\n",
    "\n",
    "$1(i_3-i_1)+4i_3=0$"
   ]
  },
  {
   "cell_type": "code",
   "execution_count": 41,
   "metadata": {},
   "outputs": [
    {
     "name": "stdout",
     "output_type": "stream",
     "text": [
      "i1 434.7826086956522 mA\n",
      "i2 347.82608695652175 mA\n",
      "i3 86.95652173913042 mA\n",
      "i -260.8695652173913 mA\n"
     ]
    }
   ],
   "source": [
    "a=[[3+4+1,-4,-1],\n",
    "   [-4,4+1,0],\n",
    "   [-1,0,4+1]]\n",
    "b=[2,0,0]\n",
    "\n",
    "i = np.linalg.solve(a, b)\n",
    "print('i1',i[0]*1e3,'mA')\n",
    "print('i2',i[1]*1e3,'mA')\n",
    "print('i3',i[2]*1e3,'mA')\n",
    "print('i',(i[2]-i[1])*1e3,'mA')"
   ]
  },
  {
   "cell_type": "markdown",
   "metadata": {},
   "source": [
    "___\n",
    "### 6- Para el circuito de la figura 4.69, determine la corriente de malla $i_1$ y la potencia disipada por la resistencia de 1 $\\Omega$.\n",
    "\n",
    "<img src=\"c6.png\" alt= “” width=\"50%\" height=\"50%\">"
   ]
  },
  {
   "cell_type": "markdown",
   "metadata": {},
   "source": [
    "$13i_1+11(i_1-i_3)+5(i_1-i_2)=0$\n",
    "\n",
    "$5(i_2-i_1)+11(i_3-i_1)+1(i_3-3)+5i_3=-7$\n",
    "\n",
    "$i_3-i_2=9$"
   ]
  },
  {
   "cell_type": "code",
   "execution_count": 47,
   "metadata": {},
   "outputs": [
    {
     "name": "stdout",
     "output_type": "stream",
     "text": [
      "i1 -0.8743455497382202 A\n",
      "i2 -7.7722513089005245 A\n",
      "i3 1.2277486910994764 A\n",
      "i4 4 A\n",
      "P_R1 3.140874701899619 W\n"
     ]
    }
   ],
   "source": [
    "a=[[13+11+5,-5,-11],\n",
    "   [-5-11,5,11+1+5],\n",
    "   [0,-1,1]]\n",
    "b=[0,-4,9]\n",
    "\n",
    "i = np.linalg.solve(a, b)\n",
    "print('i1',i[0],'A')\n",
    "print('i2',i[1],'A')\n",
    "print('i3',i[2],'A')\n",
    "print('i4',4,'A')\n",
    "\n",
    "print('P_R1',1*(i[2]-3)**2,'W')"
   ]
  },
  {
   "cell_type": "code",
   "execution_count": null,
   "metadata": {},
   "outputs": [],
   "source": []
  }
 ],
 "metadata": {
  "kernelspec": {
   "display_name": "Python 3",
   "language": "python",
   "name": "python3"
  },
  "language_info": {
   "codemirror_mode": {
    "name": "ipython",
    "version": 3
   },
   "file_extension": ".py",
   "mimetype": "text/x-python",
   "name": "python",
   "nbconvert_exporter": "python",
   "pygments_lexer": "ipython3",
   "version": "3.8.10"
  }
 },
 "nbformat": 4,
 "nbformat_minor": 4
}
