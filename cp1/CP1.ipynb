{
 "cells": [
  {
   "cell_type": "code",
   "execution_count": 1,
   "metadata": {},
   "outputs": [],
   "source": [
    "import cmath\n",
    "import numpy as np\n",
    "import math"
   ]
  },
  {
   "cell_type": "markdown",
   "metadata": {},
   "source": [
    "___\n",
    "### Clase Práctica 1: Componentes básicos y leyes de tensión y corriente\n",
    "#### Temas\n",
    "\n",
    "* Leyes de Kirchhoff.\n",
    "* Combinaciones de resistencias.\n",
    "* Fuentes reales.\n",
    "* Potencia. \n",
    "\n",
    "#### Bibliografía: Análisis de circuitos en ingeniería. Hayt \\textit{et al.} 8va ed. Capítulos 2 y 3\n"
   ]
  },
  {
   "cell_type": "markdown",
   "metadata": {},
   "source": [
    "___\n",
    "#### 1- En el circuito que se muestra en la figura, los valores de las resitencias son desconocidos, pero se sabe que la fuente de 2 $\\mathrm{V}$ suministra una corriente de 7 $\\mathrm{A}$ al resto del circuito. Calcule la corriente etiquetada como $i_2$.\n",
    "\n",
    "![image info](./ej1.png)"
   ]
  },
  {
   "cell_type": "markdown",
   "metadata": {},
   "source": [
    "$i_2=i_1 + i_s - i_1$"
   ]
  },
  {
   "cell_type": "code",
   "execution_count": 2,
   "metadata": {},
   "outputs": [
    {
     "name": "stdout",
     "output_type": "stream",
     "text": [
      "i_2:  9 A\n"
     ]
    }
   ],
   "source": [
    "i_1=7\n",
    "i_s=3\n",
    "i_3=1\n",
    "print('i_2: ',i_1+i_s-i_3,'A')"
   ]
  },
  {
   "cell_type": "markdown",
   "metadata": {},
   "source": [
    "___\n",
    "#### 2- Determine un valor numérico para cada corriente y tensión ($i_1$ , $v_1$ , etc.) en el circuito de la figura:\n",
    "\n",
    "![image info](./ej2.png)"
   ]
  },
  {
   "cell_type": "markdown",
   "metadata": {},
   "source": [
    "$v_1=v_2=2 V$\n",
    "\n",
    "$i_2=\\dfrac{v_2}{R_6}$\n",
    "\n",
    "$i_3=5v_1$\n",
    "\n",
    "$i_1=i_2+i_3$\n",
    "\n",
    "$v_4=v_5=5i_2$\n",
    "\n",
    "$i_5=\\dfrac{v_5}{R_5}$\n",
    "\n",
    "$i_4=i_3 - i_5$\n",
    "\n",
    "$v_3=v_2-v_4$"
   ]
  },
  {
   "cell_type": "code",
   "execution_count": 3,
   "metadata": {},
   "outputs": [
    {
     "name": "stdout",
     "output_type": "stream",
     "text": [
      "v1:  2 V i1:  10.333333333333334 A\n",
      "v2:  2 V i2:  0.3333333333333333 A\n",
      "v3:  0.3333333333333335 V i3:  10 A\n",
      "v4:  1.6666666666666665 V i4:  9.666666666666666 A\n",
      "v5:  1.6666666666666665 V i5:  0.3333333333333333 A\n"
     ]
    }
   ],
   "source": [
    "v1=2\n",
    "v2=v1\n",
    "i2=v2/6\n",
    "i3=5*v1\n",
    "i1=i2+i3\n",
    "v4=5*i2\n",
    "v5=v4\n",
    "i5=v5/5\n",
    "i4=i3-i5\n",
    "v3=v2-v4\n",
    "\n",
    "print('v1: ', v1, 'V','i1: ', i1,'A')\n",
    "print('v2: ', v2, 'V','i2: ', i2,'A')\n",
    "print('v3: ', v3, 'V','i3: ', i3,'A')\n",
    "print('v4: ', v4, 'V','i4: ', i4,'A')\n",
    "print('v5: ', v5, 'V','i5: ', i5,'A')"
   ]
  },
  {
   "cell_type": "markdown",
   "metadata": {},
   "source": [
    "___\n",
    "#### 3- Haciendo un uso apropiado de las técnicas de combinación de resistencias, calcule $i_3$ en el circuito de la figura y la potencia suministrada al circuito por la fuente de corriente.\n",
    "\n",
    "![image info](./ej3.png)"
   ]
  },
  {
   "cell_type": "markdown",
   "metadata": {},
   "source": [
    "$i_3= i_s \\dfrac{R_{eqv}}{R_{eqv}+R_3}$\n",
    "\n",
    "$v_x=i_3*R_3$"
   ]
  },
  {
   "cell_type": "code",
   "execution_count": 4,
   "metadata": {},
   "outputs": [],
   "source": [
    "def calc_parallel(R1,R2):\n",
    "    return R1*R2/(R1+R2)"
   ]
  },
  {
   "cell_type": "code",
   "execution_count": 5,
   "metadata": {},
   "outputs": [
    {
     "name": "stdout",
     "output_type": "stream",
     "text": [
      "12.25\n",
      "3.550724637681159\n",
      "i_3 0.5420353982300885 A\n",
      "v_x 0.18067846607669616 V\n"
     ]
    }
   ],
   "source": [
    "Req1= calc_parallel(3,9)+3+5+calc_parallel(3,6)\n",
    "print(Req1)\n",
    "Reqv=calc_parallel(Req1,5)\n",
    "print(Reqv)\n",
    "i_3=1*Reqv/(Reqv+3)\n",
    "print('i_3', i_3,'A')\n",
    "print('v_x',i_3/3,'V')"
   ]
  },
  {
   "cell_type": "markdown",
   "metadata": {},
   "source": [
    "___\n",
    "#### 4- El circuito muestra una fuente de voltaje real a la cual se le ha conectado una carga $R_L$.\n",
    "\n",
    "![image info](./c4.png)\n",
    "\n",
    "![image info](./ej4_exp.png)"
   ]
  },
  {
   "cell_type": "markdown",
   "metadata": {},
   "source": [
    "$2R_LR_s+ 2R_L^2=R_s^2+2R_LR_s+R_L^2$"
   ]
  },
  {
   "cell_type": "markdown",
   "metadata": {},
   "source": [
    "___\n",
    "#### 5- En el circuito de la figura, sólo interesa la tensión $v_x$ . Simplifique el circuito usando la combinación adecuada de resistencias y empleando iterativamente división de tensión para determinar $v_x$\n",
    "\n",
    "![image info](./ej5.png)"
   ]
  },
  {
   "cell_type": "markdown",
   "metadata": {},
   "source": [
    "___\n",
    "#### 6- Calcule la tensión marcada como $v_x$ en el circuito de la figura después de simplificar primero, usando combinaciones adecuadas de fuentes y resistencias.\n",
    "\n",
    "![image info](./ej6.png)"
   ]
  },
  {
   "cell_type": "code",
   "execution_count": null,
   "metadata": {},
   "outputs": [],
   "source": []
  }
 ],
 "metadata": {
  "kernelspec": {
   "display_name": "Python 3",
   "language": "python",
   "name": "python3"
  },
  "language_info": {
   "codemirror_mode": {
    "name": "ipython",
    "version": 3
   },
   "file_extension": ".py",
   "mimetype": "text/x-python",
   "name": "python",
   "nbconvert_exporter": "python",
   "pygments_lexer": "ipython3",
   "version": "3.8.10"
  }
 },
 "nbformat": 4,
 "nbformat_minor": 4
}
