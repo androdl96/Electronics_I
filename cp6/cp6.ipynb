{
 "cells": [
  {
   "cell_type": "code",
   "execution_count": 1,
   "metadata": {},
   "outputs": [],
   "source": [
    "import cmath\n",
    "import numpy as np\n",
    "import math\n",
    "import matplotlib.pyplot as plt\n",
    "from scipy import signal\n",
    "\n",
    "def calc_parallel(R1,R2):\n",
    "    return R1*R2/(R1+R2)\n",
    "\n",
    "def V_div(Vs,R1,R2):\n",
    "    return Vs*R1/(R1+R2)\n",
    "\n",
    "def I_div(Is,R1,R2):\n",
    "    return Is*R2/(R1+R2)\n",
    "\n",
    "def calc_exp(A,ab,t):\n",
    "    return A*np.exp(-1*ab*t)"
   ]
  },
  {
   "cell_type": "markdown",
   "metadata": {},
   "source": [
    "_____\n",
    "### Clase Práctica 6\n",
    "\n",
    "#### Temas\n",
    "* Serie y transformada de Fourier. \n",
    "* Sistemas lineales e invariantes en el tiempo. \n",
    "* Filtros pasivos.\n",
    "\n",
    "#### Bibliografía: Análisis de circuitos en ingeniería. Hayt $et \\: al.$ 8va ed. Capítulo 16 y 18\n",
    "#### Probability, Random Variables and Random Signals Principles. Peyton Z. Peebles. 4ta ed. Capítulo 8."
   ]
  },
  {
   "cell_type": "markdown",
   "metadata": {},
   "source": [
    "___\n",
    "#### Serie de Fourier:\n",
    "\n",
    "$f(t)=\\sum^{\\infty}_{n=-\\infty} c_n e^{jn\\omega_0t}$\n",
    "\n",
    "$c_n=\\dfrac{1}{T}\\int^{T/2}_{-T/2}f(t)e^{-jn\\omega_0t}dt$\n",
    "\n",
    "#### Transformada de Fourier:\n",
    "\n",
    "$F(\\omega)=\\int^{\\infty}_{-\\infty}f(t)e^{-j\\omega t}dt$\n",
    "\n",
    "####      y la inversa:\n",
    "\n",
    "$f(t)=\\dfrac{1}{2\\pi}\\int^{\\infty}_{-\\infty}F(\\omega)e^{j\\omega t}d\\omega$\n",
    "\n",
    "\n",
    "#### Además:\n",
    "\n",
    "$Z(f)=\\mathcal{F}\\left[v(t)\\Pi\\left(\\dfrac{t-t_1}{T_0}\\right)\\right]$\n",
    "\n",
    "$c_n=\\dfrac{1}{T_0}Z(nf_0)$"
   ]
  },
  {
   "cell_type": "markdown",
   "metadata": {},
   "source": [
    "_____\n",
    "#### 1- Muestre que para un sistema lineal e invariante en el tiempo (LTI) con respuesta al impulso $h(t)$, una entrada $x(t)$ puede relacionarse con su salida $y(t)$ mediante $y(t)=h(t)\\ast x(t)$.\n",
    "\n",
    "#### b) Si $\\mathrm{Y}(\\omega)=\\mathcal{F}\\{y(t)\\}$, muestre que $\\mathrm{Y}(\\omega) = \\mathrm{H}(\\omega)\\mathrm{X}(\\omega)$.\n",
    "\n",
    "#### c) Obtenga la función transferencial de un sistema formado por dos sistemas LTI en cascada cuyas respuestas al impulso son conocidas."
   ]
  },
  {
   "cell_type": "markdown",
   "metadata": {},
   "source": [
    "#### Para un sistema donde:\n",
    "\n",
    "$y(t)=L[x(t)]$\n",
    "\n",
    "#### Siendo lineal el sistema:\n",
    "\n",
    "$y(t)=L\\left[\\sum^N_{n=1}a_nx_n(t)\\right]=\\sum^N_{n=1}a_nL\\left[x_n(t)\\right]=\\sum^N_{n=1}a_ny_n(t)$\n",
    "\n",
    "#### De la definición de $\\delta$:\n",
    "\n",
    "$x(t)=\\int^{\\infty}_{-\\infty}x(\\zeta)\\delta(t-\\zeta)d\\zeta$\n",
    "\n",
    "#### Entonces:\n",
    "\n",
    "$y(t)=L[x(t)]=L\\left[\\int^{\\infty}_{-\\infty}x(\\zeta)\\delta(t-\\zeta)d\\zeta\\right]= \\int^{\\infty}_{-\\infty}x(\\zeta)L\\left[\\delta(t-\\zeta)\\right]d\\zeta$\n",
    "\n",
    "$L\\left[\\delta(t-\\zeta)\\right]=h(t,\\zeta)$\n",
    "\n",
    "$y(t)=\\int^{\\infty}_{-\\infty}x(\\zeta)h(t,\\zeta)$\n",
    "\n",
    "#### Considerando un sistema invariante en el tiempo $h(t,\\zeta)=h(t-\\zeta)$:\n",
    "\n",
    "$y(t)=\\int^{\\infty}_{-\\infty}x(\\zeta)h(t-\\zeta)=x(t)*h(t)=\\int^{\\infty}_{-\\infty}h(\\zeta)x(t-\\zeta)$"
   ]
  },
  {
   "cell_type": "markdown",
   "metadata": {},
   "source": [
    "#### b)\n",
    "\n",
    "$Y(\\omega)=\\int^{\\infty}_{-\\infty}y(t)e^{-j\\omega t}dt=\\int^{\\infty}_{-\\infty}\\left[\\int^{\\infty}_{-\\infty}x(\\zeta)h(t-\\zeta)\\right]e^{-j\\omega t}dt$\n",
    "\n",
    "$Y(\\omega)=\\int^{\\infty}_{-\\infty}x(\\zeta)\\left[\\int^{\\infty}_{-\\infty}h(t-\\zeta)e^{-j\\omega(t-\\zeta)}dt\\right]e^{-j\\omega\\zeta}d\\zeta$\n",
    "\n",
    "$Y(\\omega)=\\int^{\\infty}_{-\\infty}x(\\zeta)H(\\omega)e^{-j\\omega\\zeta}d\\zeta=X(\\omega)H(\\omega)$"
   ]
  },
  {
   "cell_type": "markdown",
   "metadata": {},
   "source": [
    "#### c) Sean $h_1(t)$ y $h_2(t)$ las respuestas al impulso de los subsistemas:\n",
    "\n",
    "$y(t)=h_2(t)*[h_1(t)*x(t)]$\n",
    "\n",
    "$Y(\\omega)=H_2(\\omega)\\mathcal{F}\\left[h_1(t)*x(t)\\right]=H_2(\\omega)H_1(\\omega)X(\\omega)$\n",
    "\n",
    "$H(\\omega)=H_2(\\omega)H_1(\\omega)$"
   ]
  },
  {
   "cell_type": "markdown",
   "metadata": {},
   "source": [
    "___\n",
    "#### 2- Sea una tensión periódica $v_s(t) = 40 \\mathrm{V}$ para $0 < t < \\dfrac{1}{96}$, y 0 para $\\dfrac{1}{96} < t < \\dfrac{1}{16}$ calcule:\n",
    "\n",
    "<img src=\"c2.png\" alt= “” width=\"50%\" height=\"50%\">"
   ]
  },
  {
   "cell_type": "markdown",
   "metadata": {},
   "source": [
    "#### a) El coeficiente de la serie de Fourier para $f=3f_0$, $\\textbf{$c_3$}$.\n",
    "\n",
    "#### b) La potencia entregada a la carga en el circuito de la figura."
   ]
  },
  {
   "cell_type": "code",
   "execution_count": 7,
   "metadata": {},
   "outputs": [
    {
     "data": {
      "text/plain": [
       "[<matplotlib.lines.Line2D at 0x7f98643efc40>]"
      ]
     },
     "execution_count": 7,
     "metadata": {},
     "output_type": "execute_result"
    },
    {
     "data": {
      "image/png": "[encoded data removed]",
      "text/plain": [
       "<Figure size 432x288 with 1 Axes>"
      ]
     },
     "metadata": {
      "needs_background": "light"
     },
     "output_type": "display_data"
    }
   ],
   "source": [
    "Vs_Sx=np.zeros((97*4,))\n",
    "for i in range(4):\n",
    "    Vs_Sx[i*97:i*97+17]=40\n",
    "plt.plot(np.linspace(0,1/4,97*4),Vs_Sx)"
   ]
  },
  {
   "cell_type": "markdown",
   "metadata": {},
   "source": [
    "#### Para un tren de pulsos de la forma:\n",
    "\n",
    "<img src=\"exp1.png\" alt= “” width=\"60%\" height=\"60%\">\n",
    "\n",
    "$|c_n|=\\dfrac{V_0\\tau}{T}\\left|\\dfrac{\\sin{\\left(\\dfrac{1}{2}n\\omega_0\\tau\\right)}}{\\dfrac{1}{2}n\\omega_0\\tau}\\right|$\n",
    "\n",
    "$\\angle(c_n)=-n\\omega_0\\left(t_0+\\dfrac{\\tau}{2}\\right)$"
   ]
  },
  {
   "cell_type": "code",
   "execution_count": 16,
   "metadata": {},
   "outputs": [
    {
     "name": "stdout",
     "output_type": "stream",
     "text": [
      "c3 mod: 4.244131815783875 ang: -1.5707963267948966\n"
     ]
    }
   ],
   "source": [
    "V0=40\n",
    "T=1/16\n",
    "t0=0\n",
    "tau=1/96\n",
    "w0=2*np.pi/T\n",
    "\n",
    "mod_c3=(1/T)*V0*tau*np.abs(np.sin(0.5*3*w0*tau)/(0.5*3*w0*tau))\n",
    "ang_c3=-3*w0*(t0+0.5*tau)\n",
    "\n",
    "print('c3','mod:',mod_c3,'ang:',ang_c3)"
   ]
  },
  {
   "cell_type": "markdown",
   "metadata": {},
   "source": [
    "#### $S= V_{ef}I^{*}_{ef}=\\dfrac{V_{ef}V^{*}_{ef}}{Z^{*}_L}=\\dfrac{|c_3|^2}{2Z^{*}_L}$"
   ]
  },
  {
   "cell_type": "code",
   "execution_count": 25,
   "metadata": {},
   "outputs": [
    {
     "name": "stdout",
     "output_type": "stream",
     "text": [
      "S  (1.7312770545417016+0.34809390565611426j)\n",
      "S2 (1.7312770545417013+0.3480939056561142j)\n"
     ]
    }
   ],
   "source": [
    "R=5\n",
    "L=10e-3\n",
    "\n",
    "ZL=5+1j*w0*L\n",
    "ZL_C=np.conjugate(ZL)\n",
    "\n",
    "VL=cmath.rect(mod_c3,ang_c3)\n",
    "IL=VL/ZL\n",
    "\n",
    "S=0.5*VL*np.conjugate(IL)\n",
    "print('S ',S)\n",
    "print('S2',mod_c3**2/(2*ZL_C))"
   ]
  },
  {
   "cell_type": "markdown",
   "metadata": {},
   "source": [
    "#### 3 - Diseñe un filtro RC pasa alto con frecuencia de corte en 3 kHz\n",
    "\n",
    "$H(s)=\\dfrac{R}{R+\\dfrac{1}{Cs}}=\\dfrac{RCs}{RCs+1}$\n",
    "\n",
    "$\\omega_c=2\\pi f_c \\approx 18.85~\\mathrm{krad/s}$\n",
    "\n",
    "$|H(j\\omega_c)|=\\dfrac{1}{\\sqrt{2}} \\: \\: \\: \\: \\:|H(j\\omega_c)~(\\mathrm{dB})|=-3~\\mathrm{dB}$ \n",
    "\n",
    "$|H(j\\omega_c)|=\\dfrac{RC\\omega}{\\sqrt{(RC\\omega)^2+1}}$\n",
    "\n",
    "$C=\\sqrt{\\dfrac{-|H(j\\omega_c)|^2}{\\omega^2R^2\\left(|H(j\\omega_c)|^2-1\\right)}}$"
   ]
  },
  {
   "cell_type": "code",
   "execution_count": 18,
   "metadata": {},
   "outputs": [
    {
     "name": "stdout",
     "output_type": "stream",
     "text": [
      "1.1287584616446476e-08\n",
      "at w=1 -85.50602246155555 dB\n",
      "fc 3000.0000000000005\n"
     ]
    }
   ],
   "source": [
    "fc=3e3\n",
    "wc=2*np.pi*fc\n",
    "#wc=18.85e3\n",
    "Hc=1/np.sqrt(2)\n",
    "R=4.7e3\n",
    "\n",
    "C2=(-1*Hc**2)/((-1+Hc**2)*(R*wc)**(2))\n",
    "C=np.sqrt(C2)\n",
    "print(C)\n",
    "\n",
    "print('at w=1',turn2dB(R*C),'dB')\n",
    "print('fc',1/(R*C*2*np.pi))"
   ]
  },
  {
   "cell_type": "markdown",
   "metadata": {},
   "source": [
    "$R=4.7~\\mathrm{k}\\Omega \\: \\:C=11.29~\\mathrm{nF}$"
   ]
  },
  {
   "cell_type": "code",
   "execution_count": 19,
   "metadata": {},
   "outputs": [],
   "source": [
    "w_array=np.linspace(1e-2,1e7,2000)\n",
    "sys = signal.TransferFunction([R*C,0], [R*C,1])\n",
    "w, mag, phase = signal.bode(sys,w_array)"
   ]
  },
  {
   "cell_type": "code",
   "execution_count": 20,
   "metadata": {},
   "outputs": [
    {
     "data": {
      "image/png": "[encoded data removed]",
      "text/plain": [
       "<Figure size 432x288 with 1 Axes>"
      ]
     },
     "metadata": {
      "needs_background": "light"
     },
     "output_type": "display_data"
    }
   ],
   "source": [
    "fig, ax1 = plt.subplots()\n",
    "color = 'tab:blue'\n",
    "ax1.set_title(r'Diagrama de Bode',size=19)\n",
    "ax1.set_xlabel(r'f',size=17)\n",
    "ax1.set_ylabel(r'Amplitud', color=color,size=17)\n",
    "ax1.semilogx(w/(2*np.pi), mag,color=color)\n",
    "#ax1.semilogx(w, mag,color=color)\n",
    "ax1.tick_params(axis='y', labelcolor=color)\n",
    "ax1.tick_params(axis='both', labelsize=13)\n",
    "ax1.grid(True)\n",
    "plt.show()"
   ]
  },
  {
   "cell_type": "markdown",
   "metadata": {},
   "source": [
    "### 4 - Diseñe un filtro de pasa banda con un ancho de banda de 1 MHz y una frecuencia de corte nivel alto de 1,1 MHz."
   ]
  },
  {
   "cell_type": "markdown",
   "metadata": {},
   "source": [
    "#### Idea: filtro pasa alto (fc=0.1MHz) en cascada con un pasabajo (fc=1.1MHz)\n",
    "\n",
    "Pasa alto\n",
    "\n",
    "$H(s)=\\dfrac{R}{R+\\dfrac{1}{Cs}}=\\dfrac{RCs}{RCs+1}$\n",
    "\n",
    "$\\omega_c=2\\pi f_c$\n",
    "\n",
    "$|H(j\\omega_c)|=\\dfrac{1}{\\sqrt{2}} \\: \\: \\: \\: \\:|H(j\\omega_c)~(\\mathrm{dB})|=-3~\\mathrm{dB}$ \n",
    "\n",
    "$|H(j\\omega_c)|=\\dfrac{RC\\omega}{\\sqrt{(RC\\omega)^2+1}}$\n",
    "\n",
    "$C=\\sqrt{\\dfrac{-|H(j\\omega_c)|^2}{\\omega^2R^2\\left(|H(j\\omega_c)|^2-1\\right)}}$"
   ]
  },
  {
   "cell_type": "code",
   "execution_count": 21,
   "metadata": {},
   "outputs": [
    {
     "name": "stdout",
     "output_type": "stream",
     "text": [
      "3.3862753849339427e-10\n",
      "at w=1 -115.96359736716231 dB\n",
      "fc 100000.00000000003\n"
     ]
    }
   ],
   "source": [
    "fc1=0.1e6\n",
    "wc1=2*np.pi*fc1\n",
    "R1=4.7e3\n",
    "Hc1=1/np.sqrt(2)\n",
    "\n",
    "C1=np.sqrt((-1*Hc1**2)/((-1+Hc1**2)*(R1*wc1)**(2)))\n",
    "print(C1)\n",
    "\n",
    "print('at w=1',turn2dB(R1*C1),'dB')\n",
    "print('fc',1/(R1*C1*2*np.pi))"
   ]
  },
  {
   "cell_type": "markdown",
   "metadata": {},
   "source": [
    "$R_1=4.7~\\mathrm{k}\\Omega \\: \\:C_1=0.34~\\mathrm{nF}$"
   ]
  },
  {
   "cell_type": "code",
   "execution_count": 22,
   "metadata": {},
   "outputs": [],
   "source": [
    "w_array=np.linspace(5e-2,5e8,int(1e5))\n",
    "sys = signal.TransferFunction([R1*C1,0], [R1*C1,1])\n",
    "w, mag, phase = signal.bode(sys,w_array)"
   ]
  },
  {
   "cell_type": "code",
   "execution_count": 23,
   "metadata": {},
   "outputs": [
    {
     "data": {
      "image/png": "[encoded data removed]",
      "text/plain": [
       "<Figure size 432x288 with 1 Axes>"
      ]
     },
     "metadata": {
      "needs_background": "light"
     },
     "output_type": "display_data"
    }
   ],
   "source": [
    "fig, ax1 = plt.subplots()\n",
    "color = 'tab:blue'\n",
    "ax1.set_title(r'Diagrama de Bode',size=19)\n",
    "ax1.set_xlabel(r'f',size=17)\n",
    "ax1.set_ylabel(r'Amplitud', color=color,size=17)\n",
    "ax1.semilogx(w/(2*np.pi), mag,color=color)\n",
    "#ax1.semilogx(w, mag,color=color)\n",
    "ax1.tick_params(axis='y', labelcolor=color)\n",
    "\n",
    "ax1.grid(True)\n",
    "plt.show()"
   ]
  },
  {
   "cell_type": "markdown",
   "metadata": {},
   "source": [
    "#### Pasa bajo\n",
    "\n",
    "$H(s)=\\dfrac{\\dfrac{1}{Cs}}{R+\\dfrac{1}{Cs}}=\\dfrac{1}{RCs+1}$\n",
    "\n",
    "$\\omega_c=2\\pi f_c$\n",
    "\n",
    "$|H(j\\omega_c)|=\\dfrac{1}{\\sqrt{2}} \\: \\: \\: \\: \\:|H(j\\omega_c)~(\\mathrm{dB})|=-3~\\mathrm{dB}$ \n",
    "\n",
    "$|H(j\\omega_c)|=\\dfrac{1}{\\sqrt{(RC\\omega)^2+1}}$\n",
    "\n",
    "$C=\\sqrt{\\dfrac{1-|H(j\\omega_c)|^2}{\\omega^2R^2|H(j\\omega_c)|^2}}$"
   ]
  },
  {
   "cell_type": "code",
   "execution_count": 24,
   "metadata": {},
   "outputs": [
    {
     "name": "stdout",
     "output_type": "stream",
     "text": [
      "3.0784321681217675e-11\n",
      "at w=1 0.0 dB\n",
      "fc 100000.00000000003\n"
     ]
    }
   ],
   "source": [
    "fc2=1.1e6\n",
    "wc2=2*np.pi*fc2\n",
    "R2=4.7e3\n",
    "Hc2=1/np.sqrt(2)\n",
    "\n",
    "C2=np.sqrt((1-Hc2**2)/(Hc2*wc2*R2)**2)\n",
    "print(C2)\n",
    "\n",
    "print('at w=1',turn2dB(1),'dB')\n",
    "print('fc',1/(R1*C1*2*np.pi))"
   ]
  },
  {
   "cell_type": "markdown",
   "metadata": {},
   "source": [
    "$R_2=4.7~\\mathrm{k}\\Omega \\: \\:C_2=307.84~\\mathrm{nF}$"
   ]
  },
  {
   "cell_type": "code",
   "execution_count": 25,
   "metadata": {},
   "outputs": [],
   "source": [
    "sys = signal.TransferFunction([1], [R2*C2,1])\n",
    "w, mag, phase = signal.bode(sys)"
   ]
  },
  {
   "cell_type": "code",
   "execution_count": 26,
   "metadata": {},
   "outputs": [
    {
     "data": {
      "image/png": "[encoded data removed]",
      "text/plain": [
       "<Figure size 432x288 with 1 Axes>"
      ]
     },
     "metadata": {
      "needs_background": "light"
     },
     "output_type": "display_data"
    }
   ],
   "source": [
    "fig, ax1 = plt.subplots()\n",
    "color = 'tab:blue'\n",
    "ax1.set_title(r'Diagrama de Bode',size=19)\n",
    "ax1.set_xlabel(r'f',size=17)\n",
    "ax1.set_ylabel(r'Amplitud', color=color,size=17)\n",
    "ax1.semilogx(w/(2*np.pi), mag,color=color)\n",
    "ax1.tick_params(axis='y', labelcolor=color)\n",
    "ax1.tick_params(axis='both', labelsize=13)\n",
    "\n",
    "ax1.grid(True)\n",
    "plt.show()"
   ]
  },
  {
   "cell_type": "markdown",
   "metadata": {},
   "source": [
    "#### Cascada \n",
    "\n",
    "$H_{\\mathrm{bandpass}}(s)=H_{\\mathrm{high-pass}}(s)H_{\\mathrm{low-pass}}(s)$\n",
    "\n",
    "$H(s)=\\dfrac{R_1C_1s}{R_1C_1s+1}\\dfrac{1}{R_2C_2s+1}=\\dfrac{R_1C_1s}{(R_1C_1s+1)(R_2C_2s+1)}$"
   ]
  },
  {
   "cell_type": "code",
   "execution_count": 27,
   "metadata": {},
   "outputs": [
    {
     "data": {
      "text/latex": [
       "$\\displaystyle 2.3027541736895 \\cdot 10^{-13} s^{2} + 1.73623574282068 \\cdot 10^{-6} s + 1$"
      ],
      "text/plain": [
       "2.3027541736895e-13*s**2 + 1.73623574282068e-6*s + 1"
      ]
     },
     "execution_count": 27,
     "metadata": {},
     "output_type": "execute_result"
    }
   ],
   "source": [
    "sym.expand((R1*C1*s+1)*(R2*C2*s+1))"
   ]
  },
  {
   "cell_type": "code",
   "execution_count": 28,
   "metadata": {},
   "outputs": [],
   "source": [
    "w_array=np.linspace(4e5,1e7,int(1e4))\n",
    "sys = signal.TransferFunction([R1*C1,0], [R1*C1*R2*C2,R1*C1+R2*C2,1])\n",
    "w, mag, phase = signal.bode(sys,w_array)"
   ]
  },
  {
   "cell_type": "code",
   "execution_count": 29,
   "metadata": {},
   "outputs": [
    {
     "data": {
      "image/png": "[encoded data removed]",
      "text/plain": [
       "<Figure size 432x288 with 1 Axes>"
      ]
     },
     "metadata": {
      "needs_background": "light"
     },
     "output_type": "display_data"
    }
   ],
   "source": [
    "fig, ax1 = plt.subplots()\n",
    "color = 'tab:blue'\n",
    "ax1.set_title(r'Diagrama de Bode',size=19)\n",
    "ax1.set_xlabel(r'f',size=17)\n",
    "ax1.set_ylabel(r'Amplitud', color=color,size=17)\n",
    "ax1.semilogx(w/(2*np.pi), mag,color=color)\n",
    "ax1.tick_params(axis='y', labelcolor=color)\n",
    "ax1.tick_params(axis='both', labelsize=13)\n",
    "\n",
    "ax1.grid(True)\n",
    "plt.show()"
   ]
  },
  {
   "cell_type": "markdown",
   "metadata": {},
   "source": [
    "#### 5 - De acuerdo con la figura, halle la la función transferencial $H(s)=\\mathrm{V}_C/\\mathrm{I}_s$ y elabore el diagrama de Bode de amplitud (puede auxiliarse de un asistente matemático).\n",
    "\n",
    "![image info](./c5.png)"
   ]
  },
  {
   "cell_type": "markdown",
   "metadata": {},
   "source": [
    "$V_c=\\dfrac{I_2}{sC}$\n",
    "\n",
    "$I_2=I_s\\dfrac{R1+LS}{R1+R2+Ls+1/sC}$"
   ]
  },
  {
   "cell_type": "code",
   "execution_count": 30,
   "metadata": {},
   "outputs": [],
   "source": [
    "R1=20\n",
    "R2=182\n",
    "L=2\n",
    "C=5e-3"
   ]
  },
  {
   "cell_type": "markdown",
   "metadata": {},
   "source": [
    "$H(s)=\\dfrac{20+2s}{0.01s^2 + 20.91s+1}$"
   ]
  },
  {
   "cell_type": "code",
   "execution_count": 31,
   "metadata": {},
   "outputs": [
    {
     "data": {
      "text/plain": [
       "[-2090.95217489850, -0.0478251015018334]"
      ]
     },
     "execution_count": 31,
     "metadata": {},
     "output_type": "execute_result"
    }
   ],
   "source": [
    "sym.solve(0.01*s**2+20.91*s+1)"
   ]
  },
  {
   "cell_type": "code",
   "execution_count": 32,
   "metadata": {},
   "outputs": [
    {
     "data": {
      "text/plain": [
       "2.220446049250313e-16"
      ]
     },
     "execution_count": 32,
     "metadata": {},
     "output_type": "execute_result"
    }
   ],
   "source": [
    "s1=-0.0478251015018334\n",
    "0.01*s1**2+20.91*s1+1"
   ]
  },
  {
   "cell_type": "code",
   "execution_count": 33,
   "metadata": {},
   "outputs": [],
   "source": [
    "sys = signal.TransferFunction([2+20], [0.01,20.91,1])\n",
    "w, mag, phase = signal.bode(sys)"
   ]
  },
  {
   "cell_type": "code",
   "execution_count": 34,
   "metadata": {},
   "outputs": [
    {
     "data": {
      "image/png": "[encoded data removed]",
      "text/plain": [
       "<Figure size 432x288 with 1 Axes>"
      ]
     },
     "metadata": {
      "needs_background": "light"
     },
     "output_type": "display_data"
    }
   ],
   "source": [
    "fig, ax1 = plt.subplots()\n",
    "color = 'tab:blue'\n",
    "ax1.set_title(r'Diagrama de Bode',size=19)\n",
    "ax1.set_xlabel(r'$\\omega$',size=17)\n",
    "ax1.set_ylabel(r'Amplitud', color=color,size=17)\n",
    "ax1.semilogx(w, mag,color=color)\n",
    "ax1.tick_params(axis='y', labelcolor=color)\n",
    "ax1.tick_params(axis='both', labelsize=13)\n",
    "\"\"\"\n",
    "ax2 = ax1.twinx()\n",
    "color = 'tab:red'\n",
    "ax2.set_ylabel(r'Fase',color=color,size=17)\n",
    "ax2.semilogx(w, phase,color=color)\n",
    "ax2.tick_params(axis='y', labelcolor=color)\n",
    "\"\"\"\n",
    "ax1.grid(True)\n",
    "plt.show()"
   ]
  },
  {
   "cell_type": "code",
   "execution_count": null,
   "metadata": {},
   "outputs": [],
   "source": []
  }
 ],
 "metadata": {
  "kernelspec": {
   "display_name": "Python 3",
   "language": "python",
   "name": "python3"
  },
  "language_info": {
   "codemirror_mode": {
    "name": "ipython",
    "version": 3
   },
   "file_extension": ".py",
   "mimetype": "text/x-python",
   "name": "python",
   "nbconvert_exporter": "python",
   "pygments_lexer": "ipython3",
   "version": "3.8.10"
  }
 },
 "nbformat": 4,
 "nbformat_minor": 4
}
