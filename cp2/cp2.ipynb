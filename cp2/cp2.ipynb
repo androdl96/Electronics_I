{
 "cells": [
  {
   "cell_type": "code",
   "execution_count": 2,
   "metadata": {},
   "outputs": [],
   "source": [
    "import cmath\n",
    "import numpy as np\n",
    "import math\n",
    "\n",
    "def calc_parallel(R1,R2):\n",
    "    return R1*R2/(R1+R2)\n",
    "\n",
    "def V_div(Vs,R1,R2):\n",
    "    return Vs*R1/(R1+R2)\n",
    "\n",
    "def I_div(Is,R1,R2):\n",
    "    return Is*R2/(R1+R2)"
   ]
  },
  {
   "cell_type": "markdown",
   "metadata": {},
   "source": [
    "_____\n",
    "### Clase Práctica 2\n",
    "\n",
    "#### Temas\n",
    "* Teoremas de Thévenin y Norton.\n",
    "* Transformaciones de fuentes.\n",
    "* Superposición\n",
    "\n",
    "#### Bibliografía: Análisis de circuitos en ingeniería. Hayt $et \\: al.$ 8va ed. Capítulo 5\n",
    "_____"
   ]
  },
  {
   "cell_type": "markdown",
   "metadata": {},
   "source": [
    "#### 1-Obtenga el equivalente de Norton de la red conectada a $R_L$ en la figura.\n",
    " \n",
    "#### b) Obtenga el equivalente de Thévenin de la misma red. \n",
    " \n",
    "#### c) Use cualquiera de los equivalentes para calcular $i_L$ para $R_L$ = 0 $\\Omega$, 1 $\\Omega$, 4.923 $\\Omega$ y 8.107 $\\Omega$.\n",
    "\n",
    "<img src=\"c1.png\" alt= “” width=\"40%\" height=\"40%\">"
   ]
  },
  {
   "cell_type": "code",
   "execution_count": 2,
   "metadata": {},
   "outputs": [
    {
     "name": "stdout",
     "output_type": "stream",
     "text": [
      "Norton: \n",
      "Isc 242.42424242424246 mA\n",
      "R_N 1.2452830188679245 ohm\n",
      " \n",
      "Thevenin: \n",
      "V_oc 301.8867924528302 mV\n",
      "R_th 1.2452830188679245 ohm\n",
      " \n",
      "b) \n",
      "Usando Norton \n",
      "il = 242.42424242424246 mA R_L= 0 ohm\n",
      "il = 134.45378151260508 mA R_L= 1 ohm\n",
      "il = 48.94178680345897 mA R_L= 4.923 ohm\n",
      "il = 32.27947570061594 mA R_L= 8.107 ohm\n",
      " \n",
      "Usando Thevenin \n",
      "il = 242.42424242424244 mA R_L= 0 ohm\n",
      "il = 134.45378151260505 mA R_L= 1 ohm\n",
      "il = 48.94178680345896 mA R_L= 4.923 ohm\n",
      "il = 32.27947570061594 mA R_L= 8.107 ohm\n"
     ]
    }
   ],
   "source": [
    "print('Norton: ')\n",
    "\n",
    "I_sc=1*0.8/(2.5+0.8)\n",
    "print('Isc',I_sc*1e3,'mA')\n",
    "\n",
    "R_N=calc_parallel(0.8+2.5,2)\n",
    "\n",
    "print('R_N',R_N,'ohm')\n",
    "\n",
    "print(' ')\n",
    "print('Thevenin: ')\n",
    "\n",
    "V_oc=(1*0.8/(0.8+2.5+2))*2\n",
    "\n",
    "print('V_oc',V_oc*1e3,'mV')\n",
    "\n",
    "R_N=calc_parallel(0.8+2.5,2)\n",
    "\n",
    "print('R_th',R_N,'ohm')\n",
    "\n",
    "print(' ')\n",
    "print('b) ')\n",
    "print('Usando Norton ')\n",
    "R_L=[0,1,4.923,8.107]\n",
    "for rl in R_L:\n",
    "    print('il =', I_div(I_sc,rl,R_N)*1e3,'mA' ,'R_L=',rl,'ohm')\n",
    "    \n",
    "print(' ')\n",
    "print('Usando Thevenin ')\n",
    "for rl in R_L:\n",
    "    print('il =', 1e3*V_div(V_oc,R_N,rl)/R_N,'mA' ,'R_L=',rl,'ohm')"
   ]
  },
  {
   "cell_type": "markdown",
   "metadata": {},
   "source": [
    "___\n",
    "#### 2- Utilice el teorema de Thévenin para obtener un equivalente sencillo de dos componentes del circuito que se muestra en la figura.\n",
    " \n",
    "#### b) Use su circuito equivalente para determinar la potencia suministrada a una resistencia de 100 $\\Omega$ conectada en las terminales a circuito abierto.\n",
    "\n",
    "<img src=\"c2.png\" alt= “” width=\"40%\" height=\"40%\">"
   ]
  },
  {
   "cell_type": "code",
   "execution_count": 3,
   "metadata": {},
   "outputs": [
    {
     "name": "stdout",
     "output_type": "stream",
     "text": [
      "R_th:  327.87425149700596 ohm\n",
      "V_oc:  32.873652694610776 V\n",
      "\n",
      "b) P:  590.2875458017418 mW\n"
     ]
    }
   ],
   "source": [
    "R_th=calc_parallel(45,122)+75+220\n",
    "print('R_th: ',R_th,'ohm')\n",
    "\n",
    "V_oc=V_div(0.7,122,45)+0.3*(calc_parallel(45,122)+75)\n",
    "print('V_oc: ', V_oc, 'V')\n",
    "\n",
    "print('')\n",
    "P=V_div(V_oc,100,R_th)**2/100\n",
    "print('b) P: ', P*1e3, 'mW')"
   ]
  },
  {
   "cell_type": "markdown",
   "metadata": {},
   "source": [
    "___\n",
    "####  3- Determine los equivalente de Thévenin del circuito representado en la figura visto desde las terminales a circuito abierto.\n",
    "\n",
    "<img src=\"c3_1.png\" alt= “” width=\"40%\" height=\"40%\">"
   ]
  },
  {
   "cell_type": "markdown",
   "metadata": {},
   "source": [
    "### colocando una fuente de corriente de valor I entre los terminales abiertos\n",
    "\n",
    "$10V_x+I_R=I$\n",
    "\n",
    "$10V_x+\\dfrac{V_x}{21}=I$\n",
    "\n",
    "$V_x\\dfrac{209}{21}=I$\n",
    "\n",
    "$R_{th}=\\dfrac{V_x}{I}=21/209$"
   ]
  },
  {
   "cell_type": "code",
   "execution_count": 17,
   "metadata": {},
   "outputs": [
    {
     "name": "stdout",
     "output_type": "stream",
     "text": [
      "R_th:  100.47846889952153 m_ohm\n"
     ]
    }
   ],
   "source": [
    "print('R_th: ',21/209*1e3,'m_ohm')"
   ]
  },
  {
   "cell_type": "markdown",
   "metadata": {},
   "source": [
    "___\n",
    "#### 4- Determine el equivalente de Thévenin del circuito dibujado en la figura visto desde las terminales a y b.\n",
    "\n",
    "<img src=\"c4.png\" alt= “” width=\"40%\" height=\"40%\">"
   ]
  },
  {
   "cell_type": "markdown",
   "metadata": {},
   "source": [
    "### Para el $V_{ab}$ LKT por el lazo exterior:\n",
    "\n",
    "$-2i_x + 500i_x + 2500i_2 + 1.5\\mathrm{k}i_2=0$\n",
    "\n",
    "$498i_x=-4000i_2$\n",
    "\n",
    "$i_2=-\\dfrac{498}{4000}i_x$\n",
    "\n",
    "#### Además:\n",
    "\n",
    "$i_x=i_2-0,7$\n",
    "\n",
    "\n",
    "#### Sustituyendo:\n",
    "\n",
    "$i_2(1+\\dfrac{498}{4000})=\\dfrac{498}{4000}0.7$"
   ]
  },
  {
   "cell_type": "code",
   "execution_count": 14,
   "metadata": {},
   "outputs": [
    {
     "name": "stdout",
     "output_type": "stream",
     "text": [
      "V_ab  -116.25166740773676 V\n"
     ]
    }
   ],
   "source": [
    "i2=(498*0.7/4000)/(1+498/4000)\n",
    "\n",
    "V_ab=-1*i2*1500\n",
    "print('V_ab ',V_ab,'V')"
   ]
  },
  {
   "cell_type": "markdown",
   "metadata": {},
   "source": [
    "### De manera similar para la corriente de corto circuito\n",
    "\n",
    "$498i_x + 2500i_{sc}=0$\n",
    "\n",
    "$i_x=i_{sc}-0,7$"
   ]
  },
  {
   "cell_type": "code",
   "execution_count": 16,
   "metadata": {},
   "outputs": [
    {
     "name": "stdout",
     "output_type": "stream",
     "text": [
      "i_sc : 0.1162775183455637 A\n",
      "R_th : 999.7776789684305 ohm\n"
     ]
    }
   ],
   "source": [
    "i_sc=(0.7*498)/(498+2500)\n",
    "print('i_sc :',i_sc,'A')\n",
    "\n",
    "R_th=V_ab/(-1*i_sc)\n",
    "print('R_th :',R_th,'ohm')"
   ]
  },
  {
   "cell_type": "markdown",
   "metadata": {},
   "source": [
    "___\n",
    "#### 5- Determine la corriente marcada como $I$ en el circuito de la figura realizando primero la transformación de fuentes y las combinaciones paralelo-serie según se necesite para reducir el circuito tanto como sea posible.\n",
    "\n",
    "<img src=\"c5.png\" alt= “” width=\"40%\" height=\"40%\">"
   ]
  },
  {
   "cell_type": "markdown",
   "metadata": {},
   "source": [
    "#### La fuente de 9 V y la R de 7+4 = 11 ohm se cambia por una fuente de corriente de 9/11 A y una R en paralelo de 11 ohm:\n",
    "\n",
    "#### Sumando las fuentes y aplicando divisor de corriente:"
   ]
  },
  {
   "cell_type": "code",
   "execution_count": 6,
   "metadata": {},
   "outputs": [
    {
     "name": "stdout",
     "output_type": "stream",
     "text": [
      "I: 2.625 A\n"
     ]
    }
   ],
   "source": [
    "I=I_div(3+9/11,5,11)\n",
    "print('I:', I , 'A')"
   ]
  },
  {
   "cell_type": "markdown",
   "metadata": {},
   "source": [
    "___\n",
    "#### 6 Usando superposición, determine la tensión marcada como $v_x$ en el circuito representado en la figura. \n",
    " \n",
    "#### b) ¿A qué valor se debe cambiar la fuente de 2 A para reducir $v_x$ en 10\\%?\n",
    "\n",
    "<img src=\"c6.png\" alt= “” width=\"45%\" height=\"45%\">"
   ]
  },
  {
   "cell_type": "markdown",
   "metadata": {},
   "source": [
    "#### Para la fuente 4 V izq hacer un divisor de voltaje:\n",
    "\n",
    "$V_{izq}=V_s\\dfrac{R_2||R_5}{R_2||R_5+R_3}$\n",
    "\n",
    "$V_{2A}=R_1I_s\\dfrac{R_3}{R_2||R_5+R_1+R_3}$\n",
    "\n",
    "$V_{der}=-1V_s\\dfrac{(R_3+R1)||R_5}{R_2+(R_3+R1)||R_5}\\dfrac{R_1}{R_1+R_3}$"
   ]
  },
  {
   "cell_type": "code",
   "execution_count": 3,
   "metadata": {},
   "outputs": [
    {
     "name": "stdout",
     "output_type": "stream",
     "text": [
      "Cont Fuente 4V izq:  0.7368421052631579 V\n",
      "Cont Fuente 2A: :  1.1052631578947367 V\n",
      "Cont Fuente 4V der :  -0.5263157894736842 V\n",
      "V_x:  1.3157894736842106 V\n"
     ]
    }
   ],
   "source": [
    "V_x_4Vizq=V_div(4,1,calc_parallel(2,5)+3)\n",
    "\n",
    "V_x_2A=1*I_div(2,calc_parallel(2,5)+1,3)\n",
    "\n",
    "V_x_4Vder=-1*V_div(V_div(4,calc_parallel(3+1,5),2),1,3)\n",
    "\n",
    "V_x=V_x_4Vizq+V_x_2A+V_x_4Vder\n",
    "\n",
    "print('Cont Fuente 4V izq: ',V_x_4Vizq,'V')\n",
    "print('Cont Fuente 2A: : ',V_x_2A,'V')\n",
    "print('Cont Fuente 4V der : ',V_x_4Vder,'V')\n",
    "print('V_x: ',V_x,'V')"
   ]
  },
  {
   "cell_type": "markdown",
   "metadata": {},
   "source": [
    "\n",
    "#### b) $0.9v_x=V_{izq}+kV_{2A}+V_{der}$"
   ]
  },
  {
   "cell_type": "code",
   "execution_count": 11,
   "metadata": {},
   "outputs": [
    {
     "name": "stdout",
     "output_type": "stream",
     "text": [
      "k 0.8809523809523813\n",
      "I 1.7619047619047625 A\n"
     ]
    }
   ],
   "source": [
    "k=(0.9*V_x-V_x_4Vder-V_x_4Vizq)/V_x_2A\n",
    "print('k',k)\n",
    "print('I',2*k,'A')"
   ]
  },
  {
   "cell_type": "code",
   "execution_count": 4,
   "metadata": {},
   "outputs": [
    {
     "data": {
      "text/plain": [
       "1.1290322580645162"
      ]
     },
     "execution_count": 4,
     "metadata": {},
     "output_type": "execute_result"
    }
   ],
   "source": [
    "35/31"
   ]
  },
  {
   "cell_type": "code",
   "execution_count": 5,
   "metadata": {},
   "outputs": [
    {
     "data": {
      "text/plain": [
       "1.4285714285714286"
      ]
     },
     "execution_count": 5,
     "metadata": {},
     "output_type": "execute_result"
    }
   ],
   "source": [
    "calc_parallel(2,5)"
   ]
  },
  {
   "cell_type": "code",
   "execution_count": 16,
   "metadata": {},
   "outputs": [
    {
     "data": {
      "text/plain": [
       "1.7460000000000002"
      ]
     },
     "execution_count": 16,
     "metadata": {},
     "output_type": "execute_result"
    }
   ],
   "source": [
    "0.97*5.4/3"
   ]
  },
  {
   "cell_type": "code",
   "execution_count": 13,
   "metadata": {},
   "outputs": [
    {
     "data": {
      "text/plain": [
       "1.1052631578947367"
      ]
     },
     "execution_count": 13,
     "metadata": {},
     "output_type": "execute_result"
    }
   ],
   "source": [
    "V_x_2A"
   ]
  },
  {
   "cell_type": "code",
   "execution_count": 15,
   "metadata": {},
   "outputs": [
    {
     "data": {
      "text/plain": [
       "0.9736842105263159"
      ]
     },
     "execution_count": 15,
     "metadata": {},
     "output_type": "execute_result"
    }
   ],
   "source": [
    "VX_1=0.9*V_x-V_x_4Vizq-V_x_4Vder\n",
    "VX_1"
   ]
  },
  {
   "cell_type": "code",
   "execution_count": null,
   "metadata": {},
   "outputs": [],
   "source": []
  }
 ],
 "metadata": {
  "kernelspec": {
   "display_name": "Python 3",
   "language": "python",
   "name": "python3"
  },
  "language_info": {
   "codemirror_mode": {
    "name": "ipython",
    "version": 3
   },
   "file_extension": ".py",
   "mimetype": "text/x-python",
   "name": "python",
   "nbconvert_exporter": "python",
   "pygments_lexer": "ipython3",
   "version": "3.8.10"
  }
 },
 "nbformat": 4,
 "nbformat_minor": 4
}
