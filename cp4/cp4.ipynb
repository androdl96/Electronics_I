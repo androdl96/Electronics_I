{
 "cells": [
  {
   "cell_type": "code",
   "execution_count": 1,
   "metadata": {},
   "outputs": [],
   "source": [
    "import cmath\n",
    "import numpy as np\n",
    "import math\n",
    "\n",
    "def calc_parallel(R1,R2):\n",
    "    return R1*R2/(R1+R2)\n",
    "\n",
    "def V_div(Vs,R1,R2):\n",
    "    return Vs*R1/(R1+R2)\n",
    "\n",
    "def I_div(Is,R1,R2):\n",
    "    return Is*R2/(R1+R2)\n",
    "\n",
    "def calc_exp(A,ab,t):\n",
    "    return A*np.exp(-1*ab*t)"
   ]
  },
  {
   "cell_type": "markdown",
   "metadata": {},
   "source": [
    "_____\n",
    "### Clase Práctica 4\n",
    "\n",
    "#### Temas\n",
    "* Capacitores e inductores.\n",
    "* Circuitos en estado transitorio.\n",
    "\n",
    "#### Bibliografía: Análisis de circuitos en ingeniería. Hayt $et \\: al.$ 8va ed. Capítulo 7, 8 y 9"
   ]
  },
  {
   "cell_type": "markdown",
   "metadata": {},
   "source": [
    "___\n",
    "#### En el capacitor:\n",
    "\n",
    "$i(t)=C\\dfrac{dv}{dt}$\n",
    "\n",
    "#### En el inductor:\n",
    "$v(t)=L\\dfrac{di}{dt}$\n",
    "\n",
    "#### Ecuación característica:\n",
    "\n",
    "#### $a\\dfrac{df}{dt}+bf=0$ tiene como solución $f=Ae^{-bt/a}$"
   ]
  },
  {
   "cell_type": "markdown",
   "metadata": {},
   "source": [
    "_____\n",
    "#### 1- El interruptor del circuito en la figura ha estado cerrado durante un tiempo ridículamente largo hasta abrirse de manera repentina en $t = 0$. \n",
    " \n",
    "#### a) Obtenga expresiones para $i_L$ y $v$ en el circuito de la figura que sean válidas para todo $t \\geq 0$. \n",
    " \n",
    "#### b) Calcule $i_L(t)$ y $v(t)$ en el instante inmediatamente anterior a la apertura del interruptor, en el instante inmediatamente posterior a la apertura del interruptor, y en el $t = 470 \\: \\mu s$.\n",
    "\n",
    "<img src=\"c1.png\" alt= “” width=\"40%\" height=\"40%\">"
   ]
  },
  {
   "cell_type": "markdown",
   "metadata": {},
   "source": [
    "#### a) para $t>0:$\n",
    "\n",
    "$25i_L+10i_L+40*10^{-3}\\dfrac{di_L}{dt}+50i_L=0$\n",
    "\n",
    "$4*10^{-2}\\dfrac{di_L}{dt}+85i_L=0$\n",
    "\n",
    "#### Utilizando la ecuación característica:\n",
    "\n",
    "$i_L=I_0e^{\\dfrac{-8500t}{4}} \\: \\mathrm{[A]}$ \n",
    "\n",
    "#### Calcular $I_0$ en $t=0^-$:\n",
    "\n",
    "$i_L=\\dfrac{10}{50}=0.2 \\: \\mathrm{A}$\n",
    "\n",
    "#### Entonces para $t>0:$\n",
    "\n",
    "$i_L=0.2e^{\\dfrac{-8500t}{4}} \\: \\mathrm{[A]}$ \n",
    "\n",
    "$v=25i_L=5e^{\\dfrac{-8500t}{4}} \\: \\mathrm{[V]}$"
   ]
  },
  {
   "cell_type": "code",
   "execution_count": 2,
   "metadata": {},
   "outputs": [
    {
     "name": "stdout",
     "output_type": "stream",
     "text": [
      "t= 0- i_L: 0.2 A v: 7.142857142857143 V\n",
      "t= 0+ i_L: 0.2 A v: 5.0 V\n",
      "t= 470 us i_L: 73.66791559970198 mA v: 1.8416978899925496 V\n"
     ]
    }
   ],
   "source": [
    "print('t= 0-','i_L:',10/50,'A','v:',V_div(10,25,10),'V')\n",
    "print('t= 0+','i_L:',calc_exp(0.2,8500/4,0),'A','v:',calc_exp(5,8500/4,0),'V')\n",
    "print('t= 470 us','i_L:',1e3*calc_exp(0.2,8500/4,470*1e-6),'mA','v:',calc_exp(5,8500/4,470*1e-6),'V')"
   ]
  },
  {
   "cell_type": "markdown",
   "metadata": {},
   "source": [
    "___\n",
    "#### 2- Es seguro suponer que un interruptor dibujado en el circuito de la figura ha estado cerrado durante un tiempo tan largo que cualquier transitorio que podría haber surgido desde la primera vez que se conectó la fuente de tensión ha desaparecido.\n",
    " \n",
    "#### a) Determine la constante de tiempo del circuito. \n",
    " \n",
    "#### b) Calcule la tensión $v(t)$ en $t =\\tau$, $2\\tau$ y $5\\tau$ .\n",
    "\n",
    "<img src=\"c2.png\" alt= “” width=\"40%\" height=\"40%\">"
   ]
  },
  {
   "cell_type": "markdown",
   "metadata": {},
   "source": [
    "#### a) En $t=0^+$:\n",
    "\n",
    "$V_0=4 \\: \\mathrm{V}$\n",
    "\n",
    "$2*10^{-9}\\dfrac{dv}{dt}+\\dfrac{v}{200+100+150}=0$\n",
    "\n",
    "$v=4e^{\\dfrac{-t}{2*10^{-9}*450}} \\: \\mathrm{[V]}$\n",
    "\n",
    "$\\tau=RC=9*10^{-7}$"
   ]
  },
  {
   "cell_type": "code",
   "execution_count": 3,
   "metadata": {},
   "outputs": [
    {
     "name": "stdout",
     "output_type": "stream",
     "text": [
      "v(tau): 1.4715177646857693 V\n",
      "v(2tau): 0.5413411329464508 V\n",
      "v(5tau): 0.026951787996341844 V\n"
     ]
    }
   ],
   "source": [
    "tau=9e-7\n",
    "print('v(tau):',calc_exp(4,1/tau,tau),'V')\n",
    "print('v(2tau):',calc_exp(4,1/tau,2*tau),'V')\n",
    "print('v(5tau):',calc_exp(4,1/tau,5*tau),'V')"
   ]
  },
  {
   "cell_type": "markdown",
   "metadata": {},
   "source": [
    "___\n",
    "#### 3- Muestre en el circuito de la figura que para una fuente senoidal la relación entre los fasores de voltaje y corriente en el inductor es $\\mathrm{j}2\\pi fL$ y en el capacitor es $\\dfrac{-\\mathrm{j}}{2\\pi fC}$.\n",
    "\n",
    "<img src=\"c3_1.png\" alt= “” width=\"40%\" height=\"40%\">"
   ]
  },
  {
   "cell_type": "markdown",
   "metadata": {},
   "source": [
    "$v_s(t)= Ri(t)+L\\dfrac{di}{dt}+\\dfrac{1}{C}\\int\\limits^{t}_{t_0} i(t')dt'+v(t_0)$\n",
    "\n",
    "#### entonces:\n",
    "\n",
    "$i(t)=I\\cos(2\\pi ft+\\phi)$\n",
    "\n",
    "#### Añadiendo una fuente compleja por superposición:\n",
    "\n",
    "$i(t)=Ie^{j(2\\pi ft+\\phi)}$\n",
    "\n",
    "$v_s(t)= RIe^{j(2\\pi ft+\\phi)}+L\\dfrac{d(Ie^{j(2\\pi ft+\\phi)})}{dt}+\\dfrac{1}{C}\\int\\limits^{t}_{t_0} Ie^{j(2\\pi ft'+\\phi)}dt'+v(t_0)$\n",
    "\n",
    "$v_s(t)= RIe^{j(2\\pi ft+\\phi)}+j2\\pi L I e^{j(2\\pi ft+\\phi)}+\\dfrac{1}{j2\\pi C}Ie^{j(2\\pi ft'+\\phi)}$\n",
    "\n",
    "#### Hacer $V/I$ en cada componente"
   ]
  },
  {
   "cell_type": "markdown",
   "metadata": {},
   "source": [
    "___\n",
    "#### 4- Diga el fasor o la expresión temporal según corresponda:"
   ]
  },
  {
   "cell_type": "markdown",
   "metadata": {},
   "source": [
    "2- a) $i_1(t)=12\\sin(400t+110^{\\circ}) \\: [\\mathrm{A}]$\n",
    "\n",
    "**$\\sin(x)=\\cos(x-90)$"
   ]
  },
  {
   "cell_type": "code",
   "execution_count": 4,
   "metadata": {},
   "outputs": [
    {
     "name": "stdout",
     "output_type": "stream",
     "text": [
      "resultado:  (12, 20)\n"
     ]
    }
   ],
   "source": [
    "ph_a=(12,20)\n",
    "print('resultado: ',ph_a)"
   ]
  },
  {
   "cell_type": "markdown",
   "metadata": {},
   "source": [
    "b) $i_2(t)=-7\\sin(200t)- 3\\cos(200t - 30^{\\circ}) \\: [\\mathrm{A}]$"
   ]
  },
  {
   "cell_type": "code",
   "execution_count": 5,
   "metadata": {},
   "outputs": [
    {
     "name": "stdout",
     "output_type": "stream",
     "text": [
      "(4.286263797015736e-16+7j) (-2.598076211353316+1.4999999999999998j)\n",
      "resultado:  (8.888194417315589, 106.99608805717719)\n"
     ]
    }
   ],
   "source": [
    "ph_b1=cmath.rect(7,math.radians(90))\n",
    "ph_b2=cmath.rect(3,math.radians(150))\n",
    "print(ph_b1,ph_b2)\n",
    "\n",
    "ph_b=cmath.polar(ph_b1+ph_b2)\n",
    "ph_b=(ph_b[0],math.degrees(ph_b[1]))\n",
    "print('resultado: ', ph_b)"
   ]
  },
  {
   "cell_type": "markdown",
   "metadata": {},
   "source": [
    "c) $\\mathrm{V}_1 = 70 \\angle{30^{\\circ}} \\: [\\mathrm{V}] $ --->\n",
    "$70\\cos(\\omega t+30^{\\circ})$"
   ]
  },
  {
   "cell_type": "markdown",
   "metadata": {},
   "source": [
    "d) $\\mathrm{V}_2 =-60+\\mathrm{j}40 \\: [\\mathrm{V}] $"
   ]
  },
  {
   "cell_type": "code",
   "execution_count": 6,
   "metadata": {},
   "outputs": [
    {
     "name": "stdout",
     "output_type": "stream",
     "text": [
      "(72.11102550927978, 146.30993247402023)\n"
     ]
    }
   ],
   "source": [
    "ph_d=cmath.polar(-60+40j)\n",
    "ph_d=(ph_d[0],math.degrees(ph_d[1]))\n",
    "print(ph_d)"
   ]
  },
  {
   "cell_type": "markdown",
   "metadata": {},
   "source": [
    "---> $72.11\\cos(\\omega t+146.31^{\\circ})$"
   ]
  },
  {
   "cell_type": "markdown",
   "metadata": {},
   "source": [
    "___\n",
    "#### 5- En el circuito de la figura:\n",
    "\n",
    "<img src=\"c5_1.png\" alt= “” width=\"40%\" height=\"40%\">\n",
    "\n",
    "#### a) Si $\\textbf{I}_{10}=2\\angle{42^{\\circ}} \\: \\mathrm{mA}$ y $\\textbf{V}=40\\angle{132^{\\circ}} \\: \\mathrm{mV}$, ¿cuál es probablemente el tipo de elemento conectado a la derecha de la resistencia de 10 $\\Omega$? Calcule su valor suponiendo que la fuente de tensión opera a una frecuencia de 1 000 rad/s."
   ]
  },
  {
   "cell_type": "code",
   "execution_count": 7,
   "metadata": {},
   "outputs": [
    {
     "name": "stdout",
     "output_type": "stream",
     "text": [
      "Z_v = (1.2891507748063227e-15+19.999999999999996j) , 19.999999999999996 90.0\n",
      "L = 20.0 mH\n"
     ]
    }
   ],
   "source": [
    "I_10=cmath.rect(2e-3,math.radians(42))\n",
    "V=cmath.rect(40e-3,math.radians(132))\n",
    "\n",
    "Z=V/I_10\n",
    "Zp=cmath.polar(Z)\n",
    "print('Z_v =',Z,',',Zp[0],math.degrees(Zp[1]))\n",
    "w=1000\n",
    "L=np.abs(Z)/(w)\n",
    "print('L =',np.round(L*1e3),'mH')"
   ]
  },
  {
   "cell_type": "markdown",
   "metadata": {},
   "source": [
    "#### b) Si $\\textbf{I}_{10}=4\\angle{35^{\\circ}} \\: \\mathrm{A}$, $\\textbf{V}=10\\angle{35^{\\circ}} \\: \\mathrm{V}$ e $\\textbf{I}=2\\angle{35^{\\circ}} \\: \\mathrm{A}$, diga que tipo de elemento corresponde a la tensión $\\textbf{V}$ y su valor. Además, determine $\\textbf{V}_s$."
   ]
  },
  {
   "cell_type": "code",
   "execution_count": 8,
   "metadata": {},
   "outputs": [
    {
     "name": "stdout",
     "output_type": "stream",
     "text": [
      "Z_v = (2.5+1.8188829204768093e-16j) , 2.5 0.0\n",
      "R = 2.5 ohm\n",
      "Vs = 100.0 35.0\n"
     ]
    }
   ],
   "source": [
    "I_10=cmath.rect(4,math.radians(35))\n",
    "V=cmath.rect(10,math.radians(35))\n",
    "I=cmath.rect(2,math.radians(35))\n",
    "\n",
    "Z=V/I_10\n",
    "Zp=cmath.polar(Z)\n",
    "print('Z_v =',Z,',',Zp[0],np.round(math.degrees(Zp[1])))\n",
    "print('R =',Zp[0],'ohm')\n",
    "\n",
    "I_25=I_10-I\n",
    "Vs=cmath.polar(10*I_10+V+I_25*25)\n",
    "print('Vs =',np.round(Vs[0]),np.round(math.degrees(Vs[1])))"
   ]
  },
  {
   "cell_type": "markdown",
   "metadata": {},
   "source": [
    "___\n",
    "#### 6- Utilice las técnicas de análisis fasorial para obtener expresiones para las dos corrientes de malla $i_1$ e $i_2$ como se muestra en la figura.\n",
    "\n",
    "<img src=\"c6.png\" alt= “” width=\"60%\" height=\"60%\">"
   ]
  },
  {
   "cell_type": "markdown",
   "metadata": {},
   "source": [
    "#### Utilizando mallas:\n",
    "\n",
    "$-2.5\\angle9+2I_1+j\\omega L(I_1-I_2)$\n",
    "\n",
    "$j\\omega L(I_2-I_1)+\\dfrac{I_2}{j\\omega C}+5I_1=0$"
   ]
  },
  {
   "cell_type": "code",
   "execution_count": 9,
   "metadata": {},
   "outputs": [
    {
     "name": "stdout",
     "output_type": "stream",
     "text": [
      "i1 =  349.0 cos( 10t + 11.5 ) mA\n",
      "i2 =  402.4 cos( 10t + 38.07 ) mA\n"
     ]
    }
   ],
   "source": [
    "w=10\n",
    "L=1\n",
    "C=330*1e-3\n",
    "vs=cmath.rect(2.5,math.radians(9))\n",
    "\n",
    "a=[[2+1j*w*L,-1j*w*L],[-1j*w*L+5,1j*w*L+1/(1j*w*C)]]\n",
    "b=[vs,0]\n",
    "I = np.linalg.solve(a, b)\n",
    "I1=cmath.polar(I[0])\n",
    "I2=cmath.polar(I[1])\n",
    "print('i1 = ',np.round(I1[0],4)*1e3,'cos( 10t +',np.round(math.degrees(I1[1]),2),')','mA')\n",
    "print('i2 = ',np.round(I2[0],4)*1e3,'cos( 10t +',np.round(math.degrees(I2[1]),2),')','mA')"
   ]
  },
  {
   "cell_type": "markdown",
   "metadata": {},
   "source": [
    "#### Utilizando nodos:\n",
    "\n",
    "$\\dfrac{V-Vs}{2}+\\dfrac{V}{j\\omega L}+\\dfrac{V-5I_1}{\\dfrac{1}{j\\omega C}}=0$\n",
    "\n",
    "$I_1=\\dfrac{Vs-V}{2}$"
   ]
  },
  {
   "cell_type": "code",
   "execution_count": 10,
   "metadata": {},
   "outputs": [
    {
     "name": "stdout",
     "output_type": "stream",
     "text": [
      "i1 =  349.0 cos( 10t + 11.5 ) mA\n",
      "i1 =  402.4 cos( 10t + -141.93 ) mA\n"
     ]
    }
   ],
   "source": [
    "a=[[1/2+1/(1j*w*L)+1j*w*C,-5*1j*w*C],\n",
    "   [1/2,1]]\n",
    "b=[vs/2,vs/2]\n",
    "S = np.linalg.solve(a, b)\n",
    "I1=cmath.polar(S[1])\n",
    "print('i1 = ',np.round(I1[0],4)*1e3,'cos( 10t +',np.round(math.degrees(I1[1]),2),')','mA')\n",
    "\n",
    "I2=cmath.polar(S[0]/(1j*w*L)-S[1])\n",
    "print('i1 = ',np.round(I2[0],4)*1e3,'cos( 10t +',np.round(math.degrees(I2[1]),2),')','mA')"
   ]
  },
  {
   "cell_type": "code",
   "execution_count": null,
   "metadata": {},
   "outputs": [],
   "source": []
  }
 ],
 "metadata": {
  "kernelspec": {
   "display_name": "Python 3",
   "language": "python",
   "name": "python3"
  },
  "language_info": {
   "codemirror_mode": {
    "name": "ipython",
    "version": 3
   },
   "file_extension": ".py",
   "mimetype": "text/x-python",
   "name": "python",
   "nbconvert_exporter": "python",
   "pygments_lexer": "ipython3",
   "version": "3.8.10"
  }
 },
 "nbformat": 4,
 "nbformat_minor": 4
}
