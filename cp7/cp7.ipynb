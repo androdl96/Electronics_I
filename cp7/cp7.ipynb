{
 "cells": [
  {
   "cell_type": "code",
   "execution_count": 3,
   "metadata": {},
   "outputs": [],
   "source": [
    "import cmath\n",
    "import numpy as np\n",
    "import math\n",
    "import matplotlib.pyplot as plt\n",
    "from scipy import signal\n",
    "\n",
    "def calc_parallel(R1,R2):\n",
    "    return R1*R2/(R1+R2)\n",
    "\n",
    "def V_div(Vs,R1,R2):\n",
    "    return Vs*R1/(R1+R2)\n",
    "\n",
    "def I_div(Is,R1,R2):\n",
    "    return Is*R2/(R1+R2)\n",
    "\n",
    "def calc_exp(A,ab,t):\n",
    "    return A*np.exp(-1*ab*t)"
   ]
  },
  {
   "cell_type": "markdown",
   "metadata": {},
   "source": [
    "_____\n",
    "### Clase Práctica 7\n",
    "\n",
    "#### Temas\n",
    "* Diodos\n",
    "\n",
    "#### Electrónica: Teoría de Circuitos y Dispositivos Electrónicos. Robert L. Boylestad y Louis Nashelsky, 10ma ed. Capítulo 1.\n",
    "\n",
    "#### Sobre modelos de diodos https://www.elprocus.com/diode-approximation-types-and-diode-models/\n",
    "\n",
    "#### Sobre capacitancia en diodos https://www.physics-and-radio-electronics.com/electronic-devices-and-circuits/semiconductor-diodes/junctioncapacitance-transitioncapacitance-diffusioncapacitance.html"
   ]
  },
  {
   "cell_type": "markdown",
   "metadata": {},
   "source": [
    "___\n",
    "![image info](./T1.png)\n",
    "\n",
    "![image info](./T2.png)\n",
    "\n",
    "![image info](./T3.png)\n",
    "\n",
    "![image info](./T4.png)"
   ]
  },
  {
   "cell_type": "markdown",
   "metadata": {},
   "source": [
    "_____\n",
    "#### 1- Calcular la tensión y la corriente en la resistencia de $1 \\: \\mathrm{k}\\Omega$ y la potencia en el diodo en la siguiente figura empleando:\n",
    "\n",
    "#### a) la aproximación del diodo ideal.\n",
    "\n",
    "#### b) la segunda aproximación o modelo simplificado.\n",
    "\n",
    "#### c) la tercera aproximación o modelo lineal por segmentos, considerando una resistencia interna de $23 \\: \\Omega$.\n",
    "\n",
    "<img src=\"c1.png\" alt= “” width=\"40%\" height=\"40%\">"
   ]
  },
  {
   "cell_type": "markdown",
   "metadata": {},
   "source": [
    "#### a- Aproximación ideal\n",
    "![image info](./da1.jpg)\n",
    "\n",
    "#### Sustituyendo el modelo en el circuito de la figura:\n",
    "\n",
    "$\\mathrm{V}_D=0$ ---> $\\mathrm{P}_D=0$\n",
    "\n",
    "$\\mathrm{V}_L= \\dfrac{\\mathrm{V}_sR_3||R_1}{R_3||R_1+R_6}$\n",
    "\n",
    "$\\mathrm{I}_L=\\dfrac{\\mathrm{V}_L}{R_1}$"
   ]
  },
  {
   "cell_type": "code",
   "execution_count": 4,
   "metadata": {},
   "outputs": [
    {
     "name": "stdout",
     "output_type": "stream",
     "text": [
      "VL 4.0 V\n",
      "IL 4.0 mA\n",
      "PD 0 W\n"
     ]
    }
   ],
   "source": [
    "Vs=36\n",
    "R3=3e3\n",
    "R6=6e3\n",
    "R1=1e3\n",
    "PD=0\n",
    "\n",
    "VL=V_div(Vs,calc_parallel(R3,R1),R6)\n",
    "IL=VL/R1\n",
    "\n",
    "print('VL',VL, 'V')\n",
    "print('IL',IL*1000, 'mA')\n",
    "print('PD',PD,'W')"
   ]
  },
  {
   "cell_type": "markdown",
   "metadata": {},
   "source": [
    "#### b- Segunda aproximación\n",
    "![image info](./da2.jpg)\n",
    "\n",
    "Sustituyendo el modelo en el circuito de la figura:\n",
    "\n",
    "$V_s=I_1R6+(I_1-I_2)R3$ (I)\n",
    " \n",
    "$(I_2-I_1)R3=V_D+I_2R_1$ (II)\n",
    "\n",
    "$I_D=I_L=I_2$\n",
    "\n",
    "$V_L=I_LR_1$\n",
    "\n",
    "$P_D=I_DV_D$\n",
    "\n",
    "---\n",
    "$V_D=0.7$ V para Si\n",
    "\n",
    "$V_D=0.3$ V para Ge\n",
    "\n",
    "$V_D=1.2$ V para GaAs\n",
    "\n",
    "---\n",
    "\n",
    "El sistema se puede escribir como:\n",
    "\n",
    "$(R_6-R_3)I_1-R_3I_2=V_S$\n",
    "\n",
    "$-R_3I_1+(R_3-R_1)I_2=V_D$"
   ]
  },
  {
   "cell_type": "code",
   "execution_count": 6,
   "metadata": {},
   "outputs": [
    {
     "name": "stdout",
     "output_type": "stream",
     "text": [
      "VL 7.373920032147881 V\n",
      "IL 7.373920032147881 mA\n",
      "PD 5.161744022503516 mW\n"
     ]
    }
   ],
   "source": [
    "Vs=36\n",
    "R3=3e3\n",
    "R6=6e3\n",
    "R1=1e3\n",
    "VD=0.7\n",
    "rd=23\n",
    "\n",
    "a = np.array([[R6-R3, R3], [-R3, R3-R1-rd]])\n",
    "b = np.array([Vs, VD])\n",
    "I = np.linalg.solve(a, b)\n",
    "\n",
    "ID=I[1]\n",
    "IL=ID\n",
    "VL=IL*R1\n",
    "PD=VD*ID\n",
    "\n",
    "print('VL',VL, 'V')\n",
    "print('IL',IL*1000, 'mA')\n",
    "print('PD',PD*1000,'mW')"
   ]
  },
  {
   "cell_type": "markdown",
   "metadata": {},
   "source": [
    "#### c- Segunda aproximación\n",
    "![image info](./da3.jpg)\n",
    "\n",
    "En el circuito tendríamos lo mismo que en el inciso anterior con una $r_d$ en serie con $R_1$ quedando:\n",
    "\n",
    "$(R_6-R_3)I_1-R_3I_2=V_S$\n",
    "\n",
    "$-R_3I_1+\\left(R_3-(R_1+r_d)\\right)I_2=V_D$"
   ]
  },
  {
   "cell_type": "code",
   "execution_count": 8,
   "metadata": {},
   "outputs": [
    {
     "name": "stdout",
     "output_type": "stream",
     "text": [
      "VL 7.34 V\n",
      "IL 7.34 mA\n",
      "PD 5.138 mW\n"
     ]
    }
   ],
   "source": [
    "Vs=36\n",
    "R3=3e3\n",
    "R6=6e3\n",
    "R1=1e3\n",
    "VD=0.7\n",
    "\n",
    "a = np.array([[R6-R3, R3], [-R3, R3-R1]])\n",
    "b = np.array([Vs, VD])\n",
    "I = np.linalg.solve(a, b)\n",
    "\n",
    "ID=I[1]\n",
    "IL=ID\n",
    "VL=IL*R1\n",
    "PD=VD*ID\n",
    "\n",
    "print('VL',VL, 'V')\n",
    "print('IL',IL*1000, 'mA')\n",
    "print('PD',PD*1000,'mW')"
   ]
  },
  {
   "cell_type": "markdown",
   "metadata": {},
   "source": [
    "___\n",
    "#### 2- Hallar en cada caso (a y b) el valor de la resistencia para que el LED no se queme y funcione con los valores indicados.\n",
    "\n",
    "<img src=\"c2.png\" alt= “” width=\"60%\" height=\"60%\">"
   ]
  },
  {
   "cell_type": "markdown",
   "metadata": {},
   "source": [
    "a) $R = \\dfrac{V-V_D}{2I_D}$"
   ]
  },
  {
   "cell_type": "code",
   "execution_count": 27,
   "metadata": {},
   "outputs": [
    {
     "name": "stdout",
     "output_type": "stream",
     "text": [
      "400.0\n"
     ]
    }
   ],
   "source": [
    "V=18 \n",
    "VD=2\n",
    "ID=20e-3\n",
    "R=(V-VD)/(2*ID)\n",
    "print(R)"
   ]
  },
  {
   "cell_type": "markdown",
   "metadata": {},
   "source": [
    "b) $R=\\dfrac{V-V_D-V_{Si}}{I_D}$"
   ]
  },
  {
   "cell_type": "code",
   "execution_count": 9,
   "metadata": {},
   "outputs": [
    {
     "name": "stdout",
     "output_type": "stream",
     "text": [
      "832.0\n"
     ]
    }
   ],
   "source": [
    "V=24 \n",
    "VD=2.5\n",
    "ID=25e-3\n",
    "Vsi=0.7\n",
    "R=(V-VD-Vsi)/(ID)\n",
    "print(R)"
   ]
  },
  {
   "cell_type": "markdown",
   "metadata": {},
   "source": [
    "___\n",
    "#### 3- Trace la forma de onda de $i$ de la red de la figura si $t_t = 2t_s$ y el tiempo de recuperación en inversa es de $9 \\: \\mathrm{ns}$.\n",
    "\n",
    "<img src=\"c3.png\" alt= “” width=\"50%\" height=\"50%\">"
   ]
  },
  {
   "cell_type": "markdown",
   "metadata": {},
   "source": [
    "$t<t_1$\n",
    "\n",
    "$i_f=\\dfrac{10 \\:\\mathrm{V}}{10 \\: \\mathrm{k}\\Omega}= 1\\: m\\mathrm{A}$\n",
    "    \n",
    "$t=t_1^+$\n",
    "\n",
    "$i_r=\\dfrac{-5 \\:\\mathrm{V}}{10 \\: \\mathrm{k}\\Omega}= -0.5\\: m\\mathrm{A}$\n",
    "\n",
    "$t_s=3 \\:ns$ ; $t_t=6 \\:ns$ ; $t_{rr}=t_s+t_t$\n",
    "\n",
    "<img src=\"r3.png\" alt= “” width=\"50%\" height=\"50%\">"
   ]
  },
  {
   "cell_type": "markdown",
   "metadata": {},
   "source": [
    "___\n",
    "#### 4- Calcular la potencia mínima del diodo zener de la figura, para que el circuito estabilice correctamente, si la entrada del circuito puede variar entre 10 y 15 V y $\\mathrm{R_L}$ entre 1 y 10 $\\: \\mathrm{k}\\Omega$ El diodo zener tiene una tensión zener de 5 V y la resistencia R del circuito un valor de 100 $\\Omega$.\n",
    "\n",
    "<img src=\"c4.png\" alt= “” width=\"50%\" height=\"50%\">"
   ]
  },
  {
   "cell_type": "markdown",
   "metadata": {},
   "source": [
    "#### Para que el zener se active:\n",
    "\n",
    "$V_z \\leq V \\dfrac{R_L}{R_L+R}$ \n",
    "\n",
    "#### Encontrar la $R_L$ mas pequeña para que el zener se active, cuando V es mínima:\n",
    "\n",
    "$\\dfrac{V_zR}{V_{min} - V_z}=R_L$"
   ]
  },
  {
   "cell_type": "code",
   "execution_count": 19,
   "metadata": {},
   "outputs": [
    {
     "name": "stdout",
     "output_type": "stream",
     "text": [
      "RL = 100.0 ohm\n"
     ]
    }
   ],
   "source": [
    "V_min=10\n",
    "V_max=15\n",
    "R_L_min=1\n",
    "R_L_max=10e3\n",
    "R=100\n",
    "Vz=5\n",
    "\n",
    "R_L=Vz*R/(V_min-Vz)\n",
    "print('RL =',R_L,'ohm')"
   ]
  },
  {
   "cell_type": "markdown",
   "metadata": {},
   "source": [
    "#### Calculando $I_z$ en estas condiciones"
   ]
  },
  {
   "cell_type": "code",
   "execution_count": 26,
   "metadata": {},
   "outputs": [
    {
     "name": "stdout",
     "output_type": "stream",
     "text": [
      "IL_max =  50.0 mA\n",
      "IR =  50.0 mA\n",
      "Iz =  0.0 A\n",
      "Pz =  0.0 W\n"
     ]
    }
   ],
   "source": [
    "I_L_max=Vz/R_L\n",
    "print('IL_max = ',I_L_max*1e3,'mA')\n",
    "\n",
    "I_R=(V_min-Vz)/R\n",
    "\n",
    "print('IR = ',I_R*1e3,'mA')\n",
    "\n",
    "print('Iz = ',(I_R-I_L_max),'A')\n",
    "\n",
    "print('Pz = ',Vz*(I_R-I_L_max),'W')"
   ]
  },
  {
   "cell_type": "markdown",
   "metadata": {},
   "source": [
    "____\n",
    "#### 5- Determine la reactancia ofrecida por un diodo descrito por las características de la figura, con un potencial en directa de 0.2 V y un potencial en inversa de 20 V si la frecuencia aplicada es de 6 MHz.\n",
    "\n",
    "<img src=\"c5.png\" alt= “” width=\"60%\" height=\"60%\">"
   ]
  },
  {
   "cell_type": "code",
   "execution_count": 12,
   "metadata": {},
   "outputs": [
    {
     "name": "stdout",
     "output_type": "stream",
     "text": [
      "X_CT 29.47313760961025 k_ohm\n",
      "X_CD 3.7894034069498894 k_ohm\n"
     ]
    }
   ],
   "source": [
    "f=6e6\n",
    "V_inv=-20\n",
    "v_dir=0.2\n",
    "\n",
    "CT=0.9e-12\n",
    "CD=7e-12\n",
    "\n",
    "X_CT=1/(2*np.pi*f*CT)\n",
    "X_CD=1/(2*np.pi*f*CD)\n",
    "\n",
    "print('X_CT',X_CT*1e-3,'k_ohm')\n",
    "print('X_CD',X_CD*1e-3,'k_ohm')"
   ]
  },
  {
   "cell_type": "code",
   "execution_count": null,
   "metadata": {},
   "outputs": [],
   "source": []
  }
 ],
 "metadata": {
  "kernelspec": {
   "display_name": "Python 3",
   "language": "python",
   "name": "python3"
  },
  "language_info": {
   "codemirror_mode": {
    "name": "ipython",
    "version": 3
   },
   "file_extension": ".py",
   "mimetype": "text/x-python",
   "name": "python",
   "nbconvert_exporter": "python",
   "pygments_lexer": "ipython3",
   "version": "3.8.10"
  }
 },
 "nbformat": 4,
 "nbformat_minor": 4
}
